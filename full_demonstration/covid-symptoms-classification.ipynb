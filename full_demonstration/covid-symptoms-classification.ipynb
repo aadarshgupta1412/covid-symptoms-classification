{
  "nbformat": 4,
  "nbformat_minor": 0,
  "metadata": {
    "colab": {
      "provenance": [],
      "collapsed_sections": [
        "f0IV39TTmLjC",
        "zA7YaUzIpR_X",
        "myIfSBjHYvin",
        "E8ihFqt2Y2nM",
        "8oOKIrqsUIzU",
        "9oHjXyuqfxG6",
        "tpYW_Muwm9qv",
        "X68ZBfzPiC2X",
        "9Upkpmuevl0U",
        "FACMWgYKyi7b",
        "mAZoEvhu-JOm",
        "hu0atm_jRJKl",
        "cHztUVvzxKyD",
        "ejmhquh8xizA",
        "ad8SzmrWUq3v",
        "YdZYeQw1dt9o",
        "O7mWcCkedt9p",
        "6yDoW-Isdt9p",
        "1pMz-Dhjdt9p",
        "w6Owf0-tdt9q",
        "AyAD0824dt9r",
        "uRRBNzxsdt9s",
        "NLVpATpgdt9t",
        "LhcxR2RRkUdT"
      ]
    },
    "kernelspec": {
      "name": "python3",
      "display_name": "Python 3"
    },
    "language_info": {
      "name": "python"
    },
    "accelerator": "GPU"
  },
  "cells": [
    {
      "cell_type": "markdown",
      "source": [
        "# **Symptoms: Preprocessing & Analysis**"
      ],
      "metadata": {
        "id": "-2SXfGFIFBYv"
      }
    },
    {
      "cell_type": "markdown",
      "source": [
        "## **Importing data and packages**"
      ],
      "metadata": {
        "id": "f0IV39TTmLjC"
      }
    },
    {
      "cell_type": "code",
      "source": [
        "!pip install umap-learn"
      ],
      "metadata": {
        "id": "64V9gJT0L7yD",
        "colab": {
          "base_uri": "https://localhost:8080/"
        },
        "outputId": "32c4f59a-9de7-414b-db51-aeb633526626"
      },
      "execution_count": null,
      "outputs": [
        {
          "output_type": "stream",
          "name": "stdout",
          "text": [
            "Looking in indexes: https://pypi.org/simple, https://us-python.pkg.dev/colab-wheels/public/simple/\n",
            "Requirement already satisfied: umap-learn in /usr/local/lib/python3.7/dist-packages (0.5.3)\n",
            "Requirement already satisfied: scipy>=1.0 in /usr/local/lib/python3.7/dist-packages (from umap-learn) (1.7.3)\n",
            "Requirement already satisfied: pynndescent>=0.5 in /usr/local/lib/python3.7/dist-packages (from umap-learn) (0.5.7)\n",
            "Requirement already satisfied: numba>=0.49 in /usr/local/lib/python3.7/dist-packages (from umap-learn) (0.56.2)\n",
            "Requirement already satisfied: scikit-learn>=0.22 in /usr/local/lib/python3.7/dist-packages (from umap-learn) (1.0.2)\n",
            "Requirement already satisfied: numpy>=1.17 in /usr/local/lib/python3.7/dist-packages (from umap-learn) (1.21.6)\n",
            "Requirement already satisfied: tqdm in /usr/local/lib/python3.7/dist-packages (from umap-learn) (4.64.1)\n",
            "Requirement already satisfied: setuptools<60 in /usr/local/lib/python3.7/dist-packages (from numba>=0.49->umap-learn) (57.4.0)\n",
            "Requirement already satisfied: importlib-metadata in /usr/local/lib/python3.7/dist-packages (from numba>=0.49->umap-learn) (4.12.0)\n",
            "Requirement already satisfied: llvmlite<0.40,>=0.39.0dev0 in /usr/local/lib/python3.7/dist-packages (from numba>=0.49->umap-learn) (0.39.1)\n",
            "Requirement already satisfied: joblib>=0.11 in /usr/local/lib/python3.7/dist-packages (from pynndescent>=0.5->umap-learn) (1.1.0)\n",
            "Requirement already satisfied: threadpoolctl>=2.0.0 in /usr/local/lib/python3.7/dist-packages (from scikit-learn>=0.22->umap-learn) (3.1.0)\n",
            "Requirement already satisfied: zipp>=0.5 in /usr/local/lib/python3.7/dist-packages (from importlib-metadata->numba>=0.49->umap-learn) (3.8.1)\n",
            "Requirement already satisfied: typing-extensions>=3.6.4 in /usr/local/lib/python3.7/dist-packages (from importlib-metadata->numba>=0.49->umap-learn) (4.1.1)\n",
            "Looking in indexes: https://pypi.org/simple, https://us-python.pkg.dev/colab-wheels/public/simple/\n",
            "Requirement already satisfied: umap-learn in /usr/local/lib/python3.7/dist-packages (0.5.3)\n",
            "Requirement already satisfied: scikit-learn>=0.22 in /usr/local/lib/python3.7/dist-packages (from umap-learn) (1.0.2)\n",
            "Requirement already satisfied: numba>=0.49 in /usr/local/lib/python3.7/dist-packages (from umap-learn) (0.56.2)\n",
            "Requirement already satisfied: scipy>=1.0 in /usr/local/lib/python3.7/dist-packages (from umap-learn) (1.7.3)\n",
            "Requirement already satisfied: tqdm in /usr/local/lib/python3.7/dist-packages (from umap-learn) (4.64.1)\n",
            "Requirement already satisfied: pynndescent>=0.5 in /usr/local/lib/python3.7/dist-packages (from umap-learn) (0.5.7)\n",
            "Requirement already satisfied: numpy>=1.17 in /usr/local/lib/python3.7/dist-packages (from umap-learn) (1.21.6)\n",
            "Requirement already satisfied: setuptools<60 in /usr/local/lib/python3.7/dist-packages (from numba>=0.49->umap-learn) (57.4.0)\n",
            "Requirement already satisfied: importlib-metadata in /usr/local/lib/python3.7/dist-packages (from numba>=0.49->umap-learn) (4.12.0)\n",
            "Requirement already satisfied: llvmlite<0.40,>=0.39.0dev0 in /usr/local/lib/python3.7/dist-packages (from numba>=0.49->umap-learn) (0.39.1)\n",
            "Requirement already satisfied: joblib>=0.11 in /usr/local/lib/python3.7/dist-packages (from pynndescent>=0.5->umap-learn) (1.1.0)\n",
            "Requirement already satisfied: threadpoolctl>=2.0.0 in /usr/local/lib/python3.7/dist-packages (from scikit-learn>=0.22->umap-learn) (3.1.0)\n",
            "Requirement already satisfied: typing-extensions>=3.6.4 in /usr/local/lib/python3.7/dist-packages (from importlib-metadata->numba>=0.49->umap-learn) (4.1.1)\n",
            "Requirement already satisfied: zipp>=0.5 in /usr/local/lib/python3.7/dist-packages (from importlib-metadata->numba>=0.49->umap-learn) (3.8.1)\n"
          ]
        }
      ]
    },
    {
      "cell_type": "code",
      "metadata": {
        "id": "k6MS1u3r9vX-"
      },
      "source": [
        "import io\n",
        "import pandas as pd\n",
        "import numpy as np\n",
        "from matplotlib import pyplot as plt\n",
        "import seaborn as sns\n",
        "import pickle\n",
        "import math\n",
        "\n",
        "from sklearn.preprocessing import StandardScaler\n",
        "from sklearn.decomposition import PCA\n",
        "from sklearn import preprocessing, model_selection\n",
        "from sklearn.model_selection import train_test_split, cross_validate, GridSearchCV\n",
        "from sklearn.metrics import precision_recall_fscore_support, classification_report, confusion_matrix, accuracy_score\n",
        "from sklearn.linear_model import LogisticRegression\n",
        "from sklearn.tree import DecisionTreeClassifier\n",
        "from sklearn.neighbors import KNeighborsClassifier\n",
        "from sklearn.discriminant_analysis import LinearDiscriminantAnalysis\n",
        "from sklearn.naive_bayes import GaussianNB\n",
        "from sklearn.svm import SVC\n",
        "from sklearn.cross_decomposition import PLSRegression\n",
        "from sklearn.ensemble import BaggingClassifier, RandomForestClassifier, AdaBoostClassifier, GradientBoostingClassifier, StackingClassifier, VotingClassifier\n",
        "from sklearn.datasets import load_digits\n",
        "from sklearn.manifold import Isomap\n",
        "import umap.umap_ as umap"
      ],
      "execution_count": null,
      "outputs": []
    },
    {
      "cell_type": "code",
      "source": [
        "from google.colab import drive\n",
        "drive.mount('/content/drive/')"
      ],
      "metadata": {
        "colab": {
          "base_uri": "https://localhost:8080/"
        },
        "id": "XrZagVqtZEHg",
        "outputId": "fb367824-db3d-4a42-ba66-cf6b9fd13056"
      },
      "execution_count": null,
      "outputs": [
        {
          "output_type": "stream",
          "name": "stdout",
          "text": [
            "Drive already mounted at /content/drive/; to attempt to forcibly remount, call drive.mount(\"/content/drive/\", force_remount=True).\n",
            "Drive already mounted at /content/drive/; to attempt to forcibly remount, call drive.mount(\"/content/drive/\", force_remount=True).\n"
          ]
        }
      ]
    },
    {
      "cell_type": "code",
      "source": [
        "url1 = '/content/drive/MyDrive/COVID project datasets/combined_data.csv'\n",
        "url2 = '/content/drive/MyDrive/COVID project datasets/Covid_Dataset.csv'\n",
        "train_data = pd.read_csv(url1)\n",
        "new_data = pd.read_csv(url2)\n",
        "training_data = train_data[['a', 'g', 'smoker', 'cold', 'cough', 'diarrhoea', 'fever',\n",
        "                            'loss_of_smell', 'mp', 'test_status', 'bd', 'ftg', 'st']]\n",
        "training_newdata = training_data[training_data['test_status'].notnull()]"
      ],
      "metadata": {
        "id": "83Y1rChQY1zJ"
      },
      "execution_count": null,
      "outputs": []
    },
    {
      "cell_type": "markdown",
      "source": [
        "## **Pre-processing**"
      ],
      "metadata": {
        "id": "zA7YaUzIpR_X"
      }
    },
    {
      "cell_type": "code",
      "metadata": {
        "id": "GX11lZXv9vmC"
      },
      "source": [
        "def printinfo(training_data):\n",
        "    temp = pd.DataFrame(index = training_data.columns)\n",
        "    temp['data_type'] = training_data.dtypes\n",
        "    temp['null_count'] = training_data.isnull().sum()\n",
        "    return temp\n",
        "\n",
        "def isNaN(num):\n",
        "    return num != num\n",
        "\n",
        "def decade(x):\n",
        "  return math.ceil(x/10)"
      ],
      "execution_count": null,
      "outputs": []
    },
    {
      "cell_type": "code",
      "source": [
        "def preprocessing(training_data):\n",
        "    import math\n",
        "    from sklearn import preprocessing\n",
        "\n",
        "    training_data['age_decade'] = training_data['a'].apply(lambda x: decade(x))\n",
        "    gender = preprocessing.LabelEncoder()\n",
        "    training_data['gender_label'] = gender.fit_transform(training_data['g'])\n",
        "    training_data['smoker'] = training_data['smoker'].apply(lambda x: 1 if x=='True' or x == 'y' else 0)\n",
        "    training_data['cold'] = training_data['cold'].apply(lambda x: 1 if not(isNaN(x)) else 0)\n",
        "    training_data['cough'] = training_data['cough'].apply(lambda x: 1 if not(isNaN(x)) else 0)\n",
        "    training_data['diarrhoea'] = training_data['diarrhoea'].apply(lambda x: 1 if not(isNaN(x)) else 0)\n",
        "    training_data['fever'] = training_data['fever'].apply(lambda x: 1 if not(isNaN(x)) else 0)\n",
        "    training_data['loss_of_smell'] = training_data['loss_of_smell'].apply(lambda x: 1 if not(isNaN(x)) else 0)\n",
        "    training_data['mp'] = training_data['mp'].apply(lambda x: 1 if not(isNaN(x)) else 0)                         # muscle pain\n",
        "    training_data['test_status'] = training_data['test_status'].apply(lambda x: 1 if x=='p' else 0)\n",
        "    training_data['bd'] = training_data['bd'].apply(lambda x: 1 if not(isNaN(x)) else 0)                         # breathing difficuties\n",
        "    training_data['ftg'] = training_data['ftg'].apply(lambda x: 1 if not(isNaN(x)) else 0)                       # fatigue\n",
        "    training_data['st'] = training_data['st'].apply(lambda x: 1 if not(isNaN(x)) else 0)                         # sore throat\n",
        "    del training_data['g']\n",
        "    del training_data['a']\n",
        "    return training_data"
      ],
      "metadata": {
        "id": "v-ibF5_aqVq-"
      },
      "execution_count": null,
      "outputs": []
    },
    {
      "cell_type": "code",
      "source": [
        "def preprocessing4(new_data):\n",
        "  import math\n",
        "  from sklearn import preprocessing\n",
        "  data2 = pd.DataFrame()\n",
        "  data2['test_status'] = new_data['COVID-19'] #[['Breathing Problem', 'Fever', 'Dry Cough', 'Sore throat', 'Running Nose', 'Fatigue ', 'COVID-19']]\n",
        "  for i in new_data.columns:\n",
        "    data2[i] = new_data[i].apply(lambda x: 1 if x=='Yes' else 0)\n",
        "  data2['test_status'] = data2['test_status'].apply(lambda x: 1 if x=='Yes' else 0)\n",
        "  del data2['COVID-19']\n",
        "  del data2['Sanitization from Market']\n",
        "  del data2['Wearing Masks']\n",
        "  del data2['Gastrointestinal ']\n",
        "  del data2['Family working in Public Exposed Places']\n",
        "  del data2['Visited Public Exposed Places']\n",
        "  del data2['Attended Large Gathering']\n",
        "  return data2"
      ],
      "metadata": {
        "id": "M9E7BtXWqYZs"
      },
      "execution_count": null,
      "outputs": []
    },
    {
      "cell_type": "code",
      "metadata": {
        "id": "UvKEReUY9voY",
        "colab": {
          "base_uri": "https://localhost:8080/"
        },
        "outputId": "50584732-bdb4-4178-f4a9-4540edf2d620"
      },
      "source": [
        "total_data1 = preprocessing(training_newdata)\n",
        "total_data2 = preprocessing4(new_data)"
      ],
      "execution_count": null,
      "outputs": [
        {
          "output_type": "stream",
          "name": "stderr",
          "text": [
            "/usr/local/lib/python3.7/dist-packages/ipykernel_launcher.py:5: SettingWithCopyWarning: \n",
            "A value is trying to be set on a copy of a slice from a DataFrame.\n",
            "Try using .loc[row_indexer,col_indexer] = value instead\n",
            "\n",
            "See the caveats in the documentation: https://pandas.pydata.org/pandas-docs/stable/user_guide/indexing.html#returning-a-view-versus-a-copy\n",
            "  \"\"\"\n",
            "/usr/local/lib/python3.7/dist-packages/ipykernel_launcher.py:7: SettingWithCopyWarning: \n",
            "A value is trying to be set on a copy of a slice from a DataFrame.\n",
            "Try using .loc[row_indexer,col_indexer] = value instead\n",
            "\n",
            "See the caveats in the documentation: https://pandas.pydata.org/pandas-docs/stable/user_guide/indexing.html#returning-a-view-versus-a-copy\n",
            "  import sys\n",
            "/usr/local/lib/python3.7/dist-packages/ipykernel_launcher.py:8: SettingWithCopyWarning: \n",
            "A value is trying to be set on a copy of a slice from a DataFrame.\n",
            "Try using .loc[row_indexer,col_indexer] = value instead\n",
            "\n",
            "See the caveats in the documentation: https://pandas.pydata.org/pandas-docs/stable/user_guide/indexing.html#returning-a-view-versus-a-copy\n",
            "  \n",
            "/usr/local/lib/python3.7/dist-packages/ipykernel_launcher.py:9: SettingWithCopyWarning: \n",
            "A value is trying to be set on a copy of a slice from a DataFrame.\n",
            "Try using .loc[row_indexer,col_indexer] = value instead\n",
            "\n",
            "See the caveats in the documentation: https://pandas.pydata.org/pandas-docs/stable/user_guide/indexing.html#returning-a-view-versus-a-copy\n",
            "  if __name__ == '__main__':\n",
            "/usr/local/lib/python3.7/dist-packages/ipykernel_launcher.py:10: SettingWithCopyWarning: \n",
            "A value is trying to be set on a copy of a slice from a DataFrame.\n",
            "Try using .loc[row_indexer,col_indexer] = value instead\n",
            "\n",
            "See the caveats in the documentation: https://pandas.pydata.org/pandas-docs/stable/user_guide/indexing.html#returning-a-view-versus-a-copy\n",
            "  # Remove the CWD from sys.path while we load stuff.\n",
            "/usr/local/lib/python3.7/dist-packages/ipykernel_launcher.py:11: SettingWithCopyWarning: \n",
            "A value is trying to be set on a copy of a slice from a DataFrame.\n",
            "Try using .loc[row_indexer,col_indexer] = value instead\n",
            "\n",
            "See the caveats in the documentation: https://pandas.pydata.org/pandas-docs/stable/user_guide/indexing.html#returning-a-view-versus-a-copy\n",
            "  # This is added back by InteractiveShellApp.init_path()\n",
            "/usr/local/lib/python3.7/dist-packages/ipykernel_launcher.py:12: SettingWithCopyWarning: \n",
            "A value is trying to be set on a copy of a slice from a DataFrame.\n",
            "Try using .loc[row_indexer,col_indexer] = value instead\n",
            "\n",
            "See the caveats in the documentation: https://pandas.pydata.org/pandas-docs/stable/user_guide/indexing.html#returning-a-view-versus-a-copy\n",
            "  if sys.path[0] == '':\n",
            "/usr/local/lib/python3.7/dist-packages/ipykernel_launcher.py:13: SettingWithCopyWarning: \n",
            "A value is trying to be set on a copy of a slice from a DataFrame.\n",
            "Try using .loc[row_indexer,col_indexer] = value instead\n",
            "\n",
            "See the caveats in the documentation: https://pandas.pydata.org/pandas-docs/stable/user_guide/indexing.html#returning-a-view-versus-a-copy\n",
            "  del sys.path[0]\n",
            "/usr/local/lib/python3.7/dist-packages/ipykernel_launcher.py:14: SettingWithCopyWarning: \n",
            "A value is trying to be set on a copy of a slice from a DataFrame.\n",
            "Try using .loc[row_indexer,col_indexer] = value instead\n",
            "\n",
            "See the caveats in the documentation: https://pandas.pydata.org/pandas-docs/stable/user_guide/indexing.html#returning-a-view-versus-a-copy\n",
            "  \n",
            "/usr/local/lib/python3.7/dist-packages/ipykernel_launcher.py:15: SettingWithCopyWarning: \n",
            "A value is trying to be set on a copy of a slice from a DataFrame.\n",
            "Try using .loc[row_indexer,col_indexer] = value instead\n",
            "\n",
            "See the caveats in the documentation: https://pandas.pydata.org/pandas-docs/stable/user_guide/indexing.html#returning-a-view-versus-a-copy\n",
            "  from ipykernel import kernelapp as app\n",
            "/usr/local/lib/python3.7/dist-packages/ipykernel_launcher.py:16: SettingWithCopyWarning: \n",
            "A value is trying to be set on a copy of a slice from a DataFrame.\n",
            "Try using .loc[row_indexer,col_indexer] = value instead\n",
            "\n",
            "See the caveats in the documentation: https://pandas.pydata.org/pandas-docs/stable/user_guide/indexing.html#returning-a-view-versus-a-copy\n",
            "  app.launch_new_instance()\n",
            "/usr/local/lib/python3.7/dist-packages/ipykernel_launcher.py:17: SettingWithCopyWarning: \n",
            "A value is trying to be set on a copy of a slice from a DataFrame.\n",
            "Try using .loc[row_indexer,col_indexer] = value instead\n",
            "\n",
            "See the caveats in the documentation: https://pandas.pydata.org/pandas-docs/stable/user_guide/indexing.html#returning-a-view-versus-a-copy\n",
            "/usr/local/lib/python3.7/dist-packages/ipykernel_launcher.py:18: SettingWithCopyWarning: \n",
            "A value is trying to be set on a copy of a slice from a DataFrame.\n",
            "Try using .loc[row_indexer,col_indexer] = value instead\n",
            "\n",
            "See the caveats in the documentation: https://pandas.pydata.org/pandas-docs/stable/user_guide/indexing.html#returning-a-view-versus-a-copy\n"
          ]
        }
      ]
    },
    {
      "cell_type": "code",
      "source": [
        "def find_label(data):\n",
        "  labels = data['test_status']\n",
        "  del data['test_status']\n",
        "  return data, labels\n",
        "\n",
        "def split_data(training_data, labels):\n",
        "  X_train, X_val,Y_train,Y_val = train_test_split(training_data,labels,test_size=0.20,random_state=40)\n",
        "  return training_data, X_train, X_val, Y_train, Y_val"
      ],
      "metadata": {
        "id": "stTJAy1UqdH3"
      },
      "execution_count": null,
      "outputs": []
    },
    {
      "cell_type": "markdown",
      "source": [
        "## **Data Analysis Functions**"
      ],
      "metadata": {
        "id": "myIfSBjHYvin"
      }
    },
    {
      "cell_type": "code",
      "source": [
        "def box_plot(data):\n",
        "  N = len(data.columns)\n",
        "  if N<=9:\n",
        "    plt.figure(figsize = (20,10))\n",
        "    for i in range(N):\n",
        "      plt.subplot(3, 3, i+1)\n",
        "      sns.boxplot(x=data[data.columns[i]])\n",
        "    plt.show()\n",
        "  else:\n",
        "    plt.figure(figsize = (20,10))\n",
        "    for i in range(9):\n",
        "      plt.subplot(3, 3, i+1)\n",
        "      sns.boxplot(x=data[data.columns[i]])\n",
        "    plt.show()\n",
        "    plt.figure(figsize = (20,10))\n",
        "    for i in range(N-9):\n",
        "      plt.subplot(3, 3, i+1)\n",
        "      sns.boxplot(x=data[data.columns[9+i]])\n",
        "    plt.show()"
      ],
      "metadata": {
        "id": "D6KyRjKVBfjL"
      },
      "execution_count": null,
      "outputs": []
    },
    {
      "cell_type": "code",
      "source": [
        "def kde_plot(data):\n",
        "  N = len(data.columns)\n",
        "  if N<=9:\n",
        "    plt.figure(figsize = (20,10))\n",
        "    for i in range(N):\n",
        "      plt.subplot(3, 3, i+1)\n",
        "      sns.kdeplot(x=data[data.columns[i]])\n",
        "    plt.show()\n",
        "  else:\n",
        "    plt.figure(figsize = (20,10))\n",
        "    for i in range(9):\n",
        "      plt.subplot(3, 3, i+1)\n",
        "      sns.kdeplot(x=data[data.columns[i]])\n",
        "    plt.show()\n",
        "    plt.figure(figsize = (20,10))\n",
        "    for i in range(N-9):\n",
        "      plt.subplot(3, 3, i+1)\n",
        "      sns.kdeplot(x=data[data.columns[9+i]])\n",
        "    plt.show()"
      ],
      "metadata": {
        "id": "crepUktOBkLn"
      },
      "execution_count": null,
      "outputs": []
    },
    {
      "cell_type": "code",
      "source": [
        "def analysis(data):\n",
        "  print('Skew measurement of each column:', '\\n')\n",
        "  print(data.skew(), \"\\n\")\n",
        "  print('Box Plots:', '\\n')\n",
        "  box_plot(data)\n",
        "  print('KDE Plots:', '\\n')\n",
        "  kde_plot(data)"
      ],
      "metadata": {
        "id": "JTtB9HAFBosX"
      },
      "execution_count": null,
      "outputs": []
    },
    {
      "cell_type": "code",
      "source": [
        "def correlation_plot(training_newdata):\n",
        "    corr = abs(training_newdata.corr()) # correlation matrix\n",
        "    lower_triangle = np.tril(corr, k = -1)  # select only the lower triangle of the correlation matrix\n",
        "    mask = lower_triangle == 0  # to mask the upper triangle in the following heatmap\n",
        "\n",
        "    plt.figure(figsize = (15,10))  # setting the figure size\n",
        "    sns.heatmap(lower_triangle, center=0.5, cmap= 'Blues', xticklabels = corr.index,\n",
        "                yticklabels = corr.columns,cbar = False, annot= True, linewidths= 1, mask = mask)   #Heatmap\n",
        "    plt.show()"
      ],
      "metadata": {
        "id": "QS0ADql-CC7b"
      },
      "execution_count": null,
      "outputs": []
    },
    {
      "cell_type": "markdown",
      "source": [
        "## **Plots and Models functions**"
      ],
      "metadata": {
        "id": "E8ihFqt2Y2nM"
      }
    },
    {
      "cell_type": "code",
      "source": [
        "def find_scores(data, model):\n",
        "  scores = cross_validate(model, data, labels1, cv=3, scoring=('accuracy', 'precision', 'recall', 'f1', 'roc_auc'), return_train_score=False)\n",
        "  scores['test_accuracy'] = scores['test_accuracy'].mean()\n",
        "  scores['fit_time'] = scores['fit_time'].mean()\n",
        "  scores['test_precision'] = scores['test_precision'].mean()\n",
        "  scores['test_recall'] = scores['test_recall'].mean()\n",
        "  scores['test_f1'] = scores['test_f1'].mean()\n",
        "  scores['test_roc_auc'] = scores['test_roc_auc'].mean()\n",
        "  scores['score_time'] = scores['score_time'].mean()\n",
        "  scores.pop('score_time')\n",
        "  df = pd.DataFrame.from_dict([scores])\n",
        "  return df"
      ],
      "metadata": {
        "id": "xXp3B75Grows"
      },
      "execution_count": null,
      "outputs": []
    },
    {
      "cell_type": "code",
      "source": [
        "def summary_report(data):\n",
        "  #data, X_train, X_val, Y_train, Y_val = split_data(data)\n",
        "  #results = {}\n",
        "  model_names = ['Logistic Regression', 'LDA', 'K-Neighbors Classifier', 'Decision Tree Classifier', 'Random Forest Classifier', 'Gaussian Naive Bayes', 'SVM',\n",
        "                 'Bagging Classifier', 'Ada Boost Classifier', 'Gradient Boosting Classifier', 'Ensemble: Stacking Classifier']\n",
        "                 #, 'Ensemble: VotingClassifier']\n",
        "  #score_param = ['Training-Time', 'Accuracy', 'F1 Score', 'Precision', 'Recall', 'AUC-ROC']\n",
        "  score_param = ['Accuracy', 'F1 Score', 'Precision', 'Recall', 'AUC-ROC']\n",
        "\n",
        "  scores = pd.DataFrame()\n",
        "  model1 = LogisticRegression()\n",
        "  scores = scores.append(find_scores(data, model1), ignore_index=True)\n",
        "  model2 = LinearDiscriminantAnalysis()\n",
        "  scores = scores.append(find_scores(data, model2), ignore_index=True)\n",
        "  model3 = KNeighborsClassifier()\n",
        "  scores = scores.append(find_scores(data, model3), ignore_index=True)\n",
        "  model4 = DecisionTreeClassifier()\n",
        "  scores = scores.append(find_scores(data, model4), ignore_index=True)\n",
        "  model5 = RandomForestClassifier()\n",
        "  scores = scores.append(find_scores(data, model5), ignore_index=True)\n",
        "  model6 = GaussianNB()\n",
        "  scores = scores.append(find_scores(data, model6), ignore_index=True)\n",
        "  model7 = SVC()\n",
        "  scores = scores.append(find_scores(data, model7), ignore_index=True)\n",
        "  model8 = BaggingClassifier()\n",
        "  scores = scores.append(find_scores(data, model8), ignore_index=True)\n",
        "  model9 = AdaBoostClassifier()\n",
        "  scores = scores.append(find_scores(data, model9), ignore_index=True)\n",
        "  model10 = GradientBoostingClassifier()\n",
        "  scores = scores.append(find_scores(data, model10), ignore_index=True)\n",
        "  estimators = [('LR', model1), ('LDA', model2), ('KNN', model3), ('DT', model4), ('RF', model5),\n",
        "                ('GNB', model6), ('SVM', model7), ('BG', model8),  ('AB', model9), ('GB', model10)]\n",
        "  model11 = StackingClassifier(estimators = estimators)\n",
        "  scores = scores.append(find_scores(data, model11), ignore_index=True)\n",
        "  #model12 = VotingClassifier(estimators = estimators, voting='hard')\n",
        "  #scores = scores.append(find_scores(data, model12), ignore_index=True)\n",
        "  scores.index = model_names\n",
        "  scores.columns = score_param\n",
        "  #scores['Training-Time'] = scores['Training-Time'].round(decimals = 4)\n",
        "  scores['Accuracy'] = scores['Accuracy']*100\n",
        "  scores['Accuracy'] = scores['Accuracy'].round(decimals = 2)\n",
        "  scores['F1 Score'] = scores['F1 Score']*100\n",
        "  scores['F1 Score'] = scores['F1 Score'].round(decimals = 2)\n",
        "  scores['Precision'] = scores['Precision']*100\n",
        "  scores['Precision'] = scores['Precision'].round(decimals = 2)\n",
        "  scores['Recall'] = scores['Recall']*100\n",
        "  scores['Recall'] = scores['Recall'].round(decimals = 2)\n",
        "  scores['AUC-ROC'] = scores['AUC-ROC']*100\n",
        "  scores['AUC-ROC'] = scores['AUC-ROC'].round(decimals = 2)\n",
        "  pd.set_option('display.float_format','{:.3f}'.format)\n",
        "  return scores"
      ],
      "metadata": {
        "id": "aK02j9b6rpad"
      },
      "execution_count": null,
      "outputs": []
    },
    {
      "cell_type": "code",
      "source": [
        "# Give the data as input and parameter (Accuracy/F1 Score, etc.) to plot for each of the 11 models\n",
        "\n",
        "def model_plot(data, var):\n",
        "  model_names = ['Logistic Regression', 'LDA', 'K-Neighbors Classifier', 'Decision Tree Classifier', 'Random Forest Classifier', 'Gaussian Naive Bayes', 'SVM',\n",
        "                 'Bagging Classifier', 'Ada Boost Classifier', 'Gradient Boosting Classifier', 'Ensemble: Stacking Classifier']\n",
        "  score = summary_report(data)\n",
        "  acc = score[var]\n",
        "  plt.plot(model_names, acc)\n",
        "  plt.xticks(rotation=90)\n",
        "  plt.show()"
      ],
      "metadata": {
        "id": "BnnW7ryrrwNP"
      },
      "execution_count": null,
      "outputs": []
    },
    {
      "cell_type": "markdown",
      "source": [
        "# **Coswara Dataset results**"
      ],
      "metadata": {
        "id": "8oOKIrqsUIzU"
      }
    },
    {
      "cell_type": "code",
      "execution_count": null,
      "metadata": {
        "id": "8rCWzH6EkRY9"
      },
      "outputs": [],
      "source": [
        "data1, labels1 = find_label(total_data1)"
      ]
    },
    {
      "cell_type": "markdown",
      "source": [
        "## **Data Analysis**"
      ],
      "metadata": {
        "id": "9oHjXyuqfxG6"
      }
    },
    {
      "cell_type": "code",
      "source": [
        "analysis(data1)"
      ],
      "metadata": {
        "id": "4BVOi2PejJc4"
      },
      "execution_count": null,
      "outputs": []
    },
    {
      "cell_type": "code",
      "source": [
        "correlation_plot(data1)"
      ],
      "metadata": {
        "id": "1nviC810jqRn"
      },
      "execution_count": null,
      "outputs": []
    },
    {
      "cell_type": "markdown",
      "source": [
        "## **Model plot**"
      ],
      "metadata": {
        "id": "tpYW_Muwm9qv"
      }
    },
    {
      "cell_type": "code",
      "source": [
        "model_plot(data1, 'Accuracy')"
      ],
      "metadata": {
        "colab": {
          "base_uri": "https://localhost:8080/",
          "height": 406
        },
        "id": "SeMNkzNjrUUE",
        "outputId": "2ce44b53-35cf-4e4d-b782-50b66e09be99"
      },
      "execution_count": null,
      "outputs": [
        {
          "output_type": "display_data",
          "data": {
            "text/plain": [
              "<Figure size 432x288 with 1 Axes>"
            ],
            "image/png": "[encoded data removed]"
          },
          "metadata": {
            "needs_background": "light"
          }
        }
      ]
    },
    {
      "cell_type": "code",
      "source": [
        "def find_scores(data, model):\n",
        "  scores = cross_validate(model, data, labels1, cv=3, scoring=('accuracy', 'precision', 'recall', 'f1', 'roc_auc'), return_train_score=False)\n",
        "  scores['test_accuracy'] = scores['test_accuracy'].mean()\n",
        "  scores['fit_time'] = scores['fit_time'].mean()\n",
        "  scores['test_precision'] = scores['test_precision'].mean()\n",
        "  scores['test_recall'] = scores['test_recall'].mean()\n",
        "  scores['test_f1'] = scores['test_f1'].mean()\n",
        "  scores['test_roc_auc'] = scores['test_roc_auc'].mean()\n",
        "  scores['score_time'] = scores['score_time'].mean()\n",
        "  scores.pop('score_time')\n",
        "  scores.pop('fit_time')\n",
        "  df = pd.DataFrame.from_dict([scores])\n",
        "  return df"
      ],
      "metadata": {
        "id": "fFmdMjmoAUa6"
      },
      "execution_count": null,
      "outputs": []
    },
    {
      "cell_type": "code",
      "source": [
        "def summary_report1(data):\n",
        "  #data, X_train, X_val, Y_train, Y_val = split_data(data)\n",
        "  #results = {}\n",
        "  model_names = ['Logistic Regression', 'Random Forest Classifier', 'Gaussian Naive Bayes', 'SVM',\n",
        "                 'Ada Boost Classifier', 'Gradient Boosting Classifier', 'Ensemble: Stacking Classifier']\n",
        "                 #, 'Ensemble: VotingClassifier']\n",
        "  score_param = ['Accuracy', 'F1 Score', 'Precision', 'Recall', 'AUC-ROC']\n",
        "\n",
        "  scores = pd.DataFrame()\n",
        "  model1 = LogisticRegression()\n",
        "  scores = scores.append(find_scores(data, model1), ignore_index=True)\n",
        "  #model2 = LinearDiscriminantAnalysis()\n",
        "  #scores = scores.append(find_scores(data, model2), ignore_index=True)\n",
        "  #model3 = KNeighborsClassifier()\n",
        "  #scores = scores.append(find_scores(data, model3), ignore_index=True)\n",
        "  #model4 = DecisionTreeClassifier()\n",
        "  #scores = scores.append(find_scores(data, model4), ignore_index=True)\n",
        "  model5 = RandomForestClassifier()\n",
        "  scores = scores.append(find_scores(data, model5), ignore_index=True)\n",
        "  model6 = GaussianNB()\n",
        "  scores = scores.append(find_scores(data, model6), ignore_index=True)\n",
        "  model7 = SVC()\n",
        "  scores = scores.append(find_scores(data, model7), ignore_index=True)\n",
        "  #model8 = BaggingClassifier()\n",
        "  #scores = scores.append(find_scores(data, model8), ignore_index=True)\n",
        "  model9 = AdaBoostClassifier()\n",
        "  scores = scores.append(find_scores(data, model9), ignore_index=True)\n",
        "  model10 = GradientBoostingClassifier()\n",
        "  scores = scores.append(find_scores(data, model10), ignore_index=True)\n",
        "  estimators = [('LR', model1), ('RF', model5),\n",
        "                ('GNB', model6), ('SVM', model7),  ('AB', model9), ('GB', model10)]\n",
        "  model11 = StackingClassifier(estimators = estimators)\n",
        "  scores = scores.append(find_scores(data, model11), ignore_index=True)\n",
        "  scores.index = model_names\n",
        "  scores.columns = score_param\n",
        "  #scores['Training-Time'] = scores['Training-Time'].round(decimals = 4)\n",
        "  scores['Accuracy'] = scores['Accuracy']*100\n",
        "  scores['Accuracy'] = scores['Accuracy'].round(decimals = 2)\n",
        "  scores['F1 Score'] = scores['F1 Score']*100\n",
        "  scores['F1 Score'] = scores['F1 Score'].round(decimals = 2)\n",
        "  scores['Precision'] = scores['Precision']*100\n",
        "  scores['Precision'] = scores['Precision'].round(decimals = 2)\n",
        "  scores['Recall'] = scores['Recall']*100\n",
        "  scores['Recall'] = scores['Recall'].round(decimals = 2)\n",
        "  scores['AUC-ROC'] = scores['AUC-ROC']*100\n",
        "  scores['AUC-ROC'] = scores['AUC-ROC'].round(decimals = 2)\n",
        "  pd.set_option('display.float_format','{:.3f}'.format)\n",
        "  return scores"
      ],
      "metadata": {
        "id": "BfXmWq3n8_EH"
      },
      "execution_count": null,
      "outputs": []
    },
    {
      "cell_type": "code",
      "source": [
        "summary_report1(data1)"
      ],
      "metadata": {
        "colab": {
          "base_uri": "https://localhost:8080/",
          "height": 269
        },
        "id": "Wwh5v8lb_uHV",
        "outputId": "f3da4b2a-13e7-4294-c63a-b4fa02d4e448"
      },
      "execution_count": null,
      "outputs": [
        {
          "output_type": "execute_result",
          "data": {
            "text/plain": [
              "                               Accuracy  F1 Score  Precision  Recall  AUC-ROC\n",
              "Logistic Regression              71.580    74.620     62.970  67.830   79.070\n",
              "Random Forest Classifier         71.090    71.050     68.620  69.370   74.740\n",
              "Gaussian Naive Bayes             70.970    74.190     63.220  67.530   80.220\n",
              "SVM                              70.970    74.010     63.220  67.440   78.960\n",
              "Ada Boost Classifier             70.850    74.080     60.660  66.450   78.070\n",
              "Gradient Boosting Classifier     72.070    72.130     69.650  70.470   77.720\n",
              "Ensemble: Stacking Classifier    71.460    72.440     67.330  69.170   78.670"
            ],
            "text/html": [
              "\n",
              "  <div id=\"df-332f8ece-8fce-475e-a4eb-de8a049d7efe\">\n",
              "    <div class=\"colab-df-container\">\n",
              "      <div>\n",
              "<style scoped>\n",
              "    .dataframe tbody tr th:only-of-type {\n",
              "        vertical-align: middle;\n",
              "    }\n",
              "\n",
              "    .dataframe tbody tr th {\n",
              "        vertical-align: top;\n",
              "    }\n",
              "\n",
              "    .dataframe thead th {\n",
              "        text-align: right;\n",
              "    }\n",
              "</style>\n",
              "<table border=\"1\" class=\"dataframe\">\n",
              "  <thead>\n",
              "    <tr style=\"text-align: right;\">\n",
              "      <th></th>\n",
              "      <th>Accuracy</th>\n",
              "      <th>F1 Score</th>\n",
              "      <th>Precision</th>\n",
              "      <th>Recall</th>\n",
              "      <th>AUC-ROC</th>\n",
              "    </tr>\n",
              "  </thead>\n",
              "  <tbody>\n",
              "    <tr>\n",
              "      <th>Logistic Regression</th>\n",
              "      <td>71.580</td>\n",
              "      <td>74.620</td>\n",
              "      <td>62.970</td>\n",
              "      <td>67.830</td>\n",
              "      <td>79.070</td>\n",
              "    </tr>\n",
              "    <tr>\n",
              "      <th>Random Forest Classifier</th>\n",
              "      <td>71.090</td>\n",
              "      <td>71.050</td>\n",
              "      <td>68.620</td>\n",
              "      <td>69.370</td>\n",
              "      <td>74.740</td>\n",
              "    </tr>\n",
              "    <tr>\n",
              "      <th>Gaussian Naive Bayes</th>\n",
              "      <td>70.970</td>\n",
              "      <td>74.190</td>\n",
              "      <td>63.220</td>\n",
              "      <td>67.530</td>\n",
              "      <td>80.220</td>\n",
              "    </tr>\n",
              "    <tr>\n",
              "      <th>SVM</th>\n",
              "      <td>70.970</td>\n",
              "      <td>74.010</td>\n",
              "      <td>63.220</td>\n",
              "      <td>67.440</td>\n",
              "      <td>78.960</td>\n",
              "    </tr>\n",
              "    <tr>\n",
              "      <th>Ada Boost Classifier</th>\n",
              "      <td>70.850</td>\n",
              "      <td>74.080</td>\n",
              "      <td>60.660</td>\n",
              "      <td>66.450</td>\n",
              "      <td>78.070</td>\n",
              "    </tr>\n",
              "    <tr>\n",
              "      <th>Gradient Boosting Classifier</th>\n",
              "      <td>72.070</td>\n",
              "      <td>72.130</td>\n",
              "      <td>69.650</td>\n",
              "      <td>70.470</td>\n",
              "      <td>77.720</td>\n",
              "    </tr>\n",
              "    <tr>\n",
              "      <th>Ensemble: Stacking Classifier</th>\n",
              "      <td>71.460</td>\n",
              "      <td>72.440</td>\n",
              "      <td>67.330</td>\n",
              "      <td>69.170</td>\n",
              "      <td>78.670</td>\n",
              "    </tr>\n",
              "  </tbody>\n",
              "</table>\n",
              "</div>\n",
              "      <button class=\"colab-df-convert\" onclick=\"convertToInteractive('df-332f8ece-8fce-475e-a4eb-de8a049d7efe')\"\n",
              "              title=\"Convert this dataframe to an interactive table.\"\n",
              "              style=\"display:none;\">\n",
              "        \n",
              "  <svg xmlns=\"http://www.w3.org/2000/svg\" height=\"24px\"viewBox=\"0 0 24 24\"\n",
              "       width=\"24px\">\n",
              "    <path d=\"M0 0h24v24H0V0z\" fill=\"none\"/>\n",
              "    <path d=\"M18.56 5.44l.94 2.06.94-2.06 2.06-.94-2.06-.94-.94-2.06-.94 2.06-2.06.94zm-11 1L8.5 8.5l.94-2.06 2.06-.94-2.06-.94L8.5 2.5l-.94 2.06-2.06.94zm10 10l.94 2.06.94-2.06 2.06-.94-2.06-.94-.94-2.06-.94 2.06-2.06.94z\"/><path d=\"M17.41 7.96l-1.37-1.37c-.4-.4-.92-.59-1.43-.59-.52 0-1.04.2-1.43.59L10.3 9.45l-7.72 7.72c-.78.78-.78 2.05 0 2.83L4 21.41c.39.39.9.59 1.41.59.51 0 1.02-.2 1.41-.59l7.78-7.78 2.81-2.81c.8-.78.8-2.07 0-2.86zM5.41 20L4 18.59l7.72-7.72 1.47 1.35L5.41 20z\"/>\n",
              "  </svg>\n",
              "      </button>\n",
              "      \n",
              "  <style>\n",
              "    .colab-df-container {\n",
              "      display:flex;\n",
              "      flex-wrap:wrap;\n",
              "      gap: 12px;\n",
              "    }\n",
              "\n",
              "    .colab-df-convert {\n",
              "      background-color: #E8F0FE;\n",
              "      border: none;\n",
              "      border-radius: 50%;\n",
              "      cursor: pointer;\n",
              "      display: none;\n",
              "      fill: #1967D2;\n",
              "      height: 32px;\n",
              "      padding: 0 0 0 0;\n",
              "      width: 32px;\n",
              "    }\n",
              "\n",
              "    .colab-df-convert:hover {\n",
              "      background-color: #E2EBFA;\n",
              "      box-shadow: 0px 1px 2px rgba(60, 64, 67, 0.3), 0px 1px 3px 1px rgba(60, 64, 67, 0.15);\n",
              "      fill: #174EA6;\n",
              "    }\n",
              "\n",
              "    [theme=dark] .colab-df-convert {\n",
              "      background-color: #3B4455;\n",
              "      fill: #D2E3FC;\n",
              "    }\n",
              "\n",
              "    [theme=dark] .colab-df-convert:hover {\n",
              "      background-color: #434B5C;\n",
              "      box-shadow: 0px 1px 3px 1px rgba(0, 0, 0, 0.15);\n",
              "      filter: drop-shadow(0px 1px 2px rgba(0, 0, 0, 0.3));\n",
              "      fill: #FFFFFF;\n",
              "    }\n",
              "  </style>\n",
              "\n",
              "      <script>\n",
              "        const buttonEl =\n",
              "          document.querySelector('#df-332f8ece-8fce-475e-a4eb-de8a049d7efe button.colab-df-convert');\n",
              "        buttonEl.style.display =\n",
              "          google.colab.kernel.accessAllowed ? 'block' : 'none';\n",
              "\n",
              "        async function convertToInteractive(key) {\n",
              "          const element = document.querySelector('#df-332f8ece-8fce-475e-a4eb-de8a049d7efe');\n",
              "          const dataTable =\n",
              "            await google.colab.kernel.invokeFunction('convertToInteractive',\n",
              "                                                     [key], {});\n",
              "          if (!dataTable) return;\n",
              "\n",
              "          const docLinkHtml = 'Like what you see? Visit the ' +\n",
              "            '<a target=\"_blank\" href=https://colab.research.google.com/notebooks/data_table.ipynb>data table notebook</a>'\n",
              "            + ' to learn more about interactive tables.';\n",
              "          element.innerHTML = '';\n",
              "          dataTable['output_type'] = 'display_data';\n",
              "          await google.colab.output.renderOutput(dataTable, element);\n",
              "          const docLink = document.createElement('div');\n",
              "          docLink.innerHTML = docLinkHtml;\n",
              "          element.appendChild(docLink);\n",
              "        }\n",
              "      </script>\n",
              "    </div>\n",
              "  </div>\n",
              "  "
            ]
          },
          "metadata": {},
          "execution_count": 16
        }
      ]
    },
    {
      "cell_type": "code",
      "source": [
        "# Give the data as input and parameter (Accuracy/F1 Score, etc.) to obtain bar plot for each of the 11 models\n",
        "\n",
        "def model_bar(data, var):\n",
        "  model_names = ['Logistic Regression', 'Random Forest Classifier', 'Gaussian Naive Bayes', 'SVM',\n",
        "                 'Ada Boost Classifier', 'Gradient Boosting Classifier', 'Ensemble: Stacking Classifier']\n",
        "  score = summary_report1(data)\n",
        "  acc = score[var]\n",
        "  plt.bar(model_names, acc)\n",
        "  plt.xticks(rotation=90)\n",
        "  plt.ylim([50, 80])\n",
        "  plt.show()"
      ],
      "metadata": {
        "id": "kg2XWKMK9fjt"
      },
      "execution_count": null,
      "outputs": []
    },
    {
      "cell_type": "code",
      "source": [
        "model_bar(data1, 'Accuracy')"
      ],
      "metadata": {
        "colab": {
          "base_uri": "https://localhost:8080/",
          "height": 407
        },
        "id": "gV8dhJcf725y",
        "outputId": "a61716b6-4fdc-4ffd-d2d9-acb095d828e5"
      },
      "execution_count": null,
      "outputs": [
        {
          "output_type": "display_data",
          "data": {
            "text/plain": [
              "<Figure size 432x288 with 1 Axes>"
            ],
            "image/png": "[encoded data removed]"
          },
          "metadata": {
            "needs_background": "light"
          }
        }
      ]
    },
    {
      "cell_type": "markdown",
      "metadata": {
        "id": "MLxAGK9cYi2u"
      },
      "source": [
        "## **PCA**"
      ]
    },
    {
      "cell_type": "code",
      "source": [
        "def complete_PCA_analysis(data, var):\n",
        "  sc = StandardScaler()\n",
        "  data2 = sc.fit_transform(data)\n",
        "  model_names = ['Logistic Regression', 'LDA', 'K-Neighbors Classifier', 'Decision Tree Classifier', 'Random Forest Classifier', 'Gaussian Naive Bayes', 'SVM',\n",
        "                  'Bagging Classifier', 'Ada Boost Classifier', 'Gradient Boosting Classifier', 'Ensemble: Stacking Classifier']\n",
        "  for i in range(2, data2.shape[1]):\n",
        "      pca = PCA(n_components = i)\n",
        "      data3 = pca.fit_transform(data2)\n",
        "      explained_variance = pca.explained_variance_ratio_\n",
        "      #print('Result for PCA : n_components=', i)\n",
        "      score = summary_report(data3)\n",
        "      plt.plot(model_names,score[var], label=i)\n",
        "  plt.xticks(rotation=90)\n",
        "  plt.legend()\n",
        "  plt.show()"
      ],
      "metadata": {
        "id": "ofe4-to0wNVW"
      },
      "execution_count": null,
      "outputs": []
    },
    {
      "cell_type": "code",
      "source": [
        "complete_PCA_analysis(data1, 'Accuracy')"
      ],
      "metadata": {
        "id": "Ndw3AdMBTTe4",
        "colab": {
          "base_uri": "https://localhost:8080/",
          "height": 403
        },
        "outputId": "8efeaac6-8c75-4930-d7d6-4626962b6e29"
      },
      "execution_count": null,
      "outputs": [
        {
          "output_type": "display_data",
          "data": {
            "text/plain": [
              "<Figure size 432x288 with 1 Axes>"
            ],
            "image/png": "[encoded data removed]"
          },
          "metadata": {
            "needs_background": "light"
          }
        }
      ]
    },
    {
      "cell_type": "code",
      "source": [
        "complete_PCA_analysis(data1, 'F1 Score')"
      ],
      "metadata": {
        "id": "RVMo8l5Vsjkv"
      },
      "execution_count": null,
      "outputs": []
    },
    {
      "cell_type": "code",
      "source": [
        "def PCA_analysis_modified(data, var):\n",
        "  sc = StandardScaler()\n",
        "  data2 = sc.fit_transform(data)\n",
        "  model_names = ['Logistic Regression', 'LDA', 'Random Forest Classifier', 'Gaussian Naive Bayes', 'SVM',\n",
        "                  'Ada Boost Classifier', 'Gradient Boosting Classifier', 'Ensemble: Stacking Classifier']\n",
        "  for i in range(2, 8):\n",
        "      pca = PCA(n_components = i)\n",
        "      data3 = pca.fit_transform(data2)\n",
        "      explained_variance = pca.explained_variance_ratio_\n",
        "      #print('Result for PCA : n_components=', i)\n",
        "      score = summary_report(data3)\n",
        "      score = score.drop(['K-Neighbors Classifier', 'Decision Tree Classifier', 'Bagging Classifier'])\n",
        "\n",
        "      plt.plot(model_names,score[var], label=i)\n",
        "  plt.xticks(rotation=90)\n",
        "  plt.legend()\n",
        "  plt.show()"
      ],
      "metadata": {
        "id": "MoAQwRr21C94"
      },
      "execution_count": null,
      "outputs": []
    },
    {
      "cell_type": "code",
      "source": [
        "PCA_analysis_modified(data1, 'Accuracy')"
      ],
      "metadata": {
        "colab": {
          "base_uri": "https://localhost:8080/",
          "height": 403
        },
        "id": "HJAf0I9q19ef",
        "outputId": "16d578bc-739b-4a36-d8cf-3eb4b2d2ebe7"
      },
      "execution_count": null,
      "outputs": [
        {
          "output_type": "display_data",
          "data": {
            "text/plain": [
              "<Figure size 432x288 with 1 Axes>"
            ],
            "image/png": "[encoded data removed]"
          },
          "metadata": {
            "needs_background": "light"
          }
        }
      ]
    },
    {
      "cell_type": "code",
      "source": [
        "PCA_analysis_modified(data1, 'F1 Score')"
      ],
      "metadata": {
        "id": "xK9UoImk19k7"
      },
      "execution_count": null,
      "outputs": []
    },
    {
      "cell_type": "code",
      "source": [
        "def n_plotPCA(data):\n",
        "    sc = StandardScaler()\n",
        "    data2 = sc.fit_transform(data)\n",
        "    #model_names = ['Logistic Regression', 'LDA', 'K-Neighbors Classifier', 'Decision Tree Classifier', 'Random Forest Classifier', 'Gaussian Naive Bayes', 'SVM',\n",
        "                    #'Bagging Classifier', 'Ada Boost Classifier', 'Gradient Boosting Classifier', 'Ensemble: Stacking Classifier']\n",
        "    #plt.figure(figsize=(100, 100)\n",
        "    n_array = []\n",
        "    lr, lda, knn, dst, rf, gnb, svm, bc, abc, gbc, ensemble = [], [], [], [], [], [], [], [], [], [], []\n",
        "    for i in range(2, len(data.columns)):\n",
        "        n_array.append(i)\n",
        "        pca = PCA(n_components = i)\n",
        "        data3 = pca.fit_transform(data2)\n",
        "        explained_variance = pca.explained_variance_ratio_\n",
        "        #print('Result for PCA : n_components=', i)\n",
        "        score = summary_report(data3)\n",
        "        lr.append(score['Accuracy'][0])\n",
        "        lda.append(score['Accuracy'][1])\n",
        "        knn.append(score['Accuracy'][2])\n",
        "        dst.append(score['Accuracy'][3])\n",
        "        rf.append(score['Accuracy'][4])\n",
        "        gnb.append(score['Accuracy'][5])\n",
        "        svm.append(score['Accuracy'][6])\n",
        "        bc.append(score['Accuracy'][7])\n",
        "        abc.append(score['Accuracy'][8])\n",
        "        gbc.append(score['Accuracy'][9])\n",
        "        ensemble.append(score['Accuracy'][10])\n",
        "    return n_array, lr, lda, knn, dst, rf, gnb, svm, bc, abc, gbc, ensemble"
      ],
      "metadata": {
        "id": "xHWu4vwMwjdJ"
      },
      "execution_count": null,
      "outputs": []
    },
    {
      "cell_type": "code",
      "source": [
        "def n_tablePCA(data):\n",
        "    sc = StandardScaler()\n",
        "    data2 = sc.fit_transform(data)\n",
        "    final_score = pd.DataFrame()\n",
        "    for i in range(2, len(data.columns)):\n",
        "        name = 'n_comp=' + str(i)\n",
        "        pca = PCA(n_components = i)\n",
        "        data3 = pca.fit_transform(data2)\n",
        "        explained_variance = pca.explained_variance_ratio_\n",
        "        score = summary_report(data3)\n",
        "        final_score[name] = score['Accuracy']\n",
        "    return final_score"
      ],
      "metadata": {
        "id": "eZL4e_VpwpFQ"
      },
      "execution_count": null,
      "outputs": []
    },
    {
      "cell_type": "code",
      "source": [
        "n_tablePCA(data1)"
      ],
      "metadata": {
        "id": "pbkCrAIcsycq",
        "colab": {
          "base_uri": "https://localhost:8080/",
          "height": 394
        },
        "outputId": "6eea61fd-4187-4a95-c632-bcc2751e676c"
      },
      "execution_count": null,
      "outputs": [
        {
          "output_type": "execute_result",
          "data": {
            "text/plain": [
              "                               n_comp=2  n_comp=3  n_comp=4  n_comp=5  \\\n",
              "Logistic Regression              72.680    72.310    72.430    72.190   \n",
              "LDA                              72.800    72.070    71.820    70.720   \n",
              "K-Neighbors Classifier           70.240    70.730    69.140    69.020   \n",
              "Decision Tree Classifier         68.540    67.560    68.660    67.930   \n",
              "Random Forest Classifier         70.240    70.120    70.000    70.480   \n",
              "Gaussian Naive Bayes             71.820    71.090    70.610    68.780   \n",
              "SVM                              73.530    72.800    72.430    71.940   \n",
              "Bagging Classifier               70.480    68.290    69.510    69.750   \n",
              "Ada Boost Classifier             74.020    73.530    73.160    72.800   \n",
              "Gradient Boosting Classifier     72.310    70.730    70.480    71.330   \n",
              "Ensemble: Stacking Classifier    72.920    72.800    71.460    71.940   \n",
              "\n",
              "                               n_comp=6  n_comp=7  n_comp=8  n_comp=9  \\\n",
              "Logistic Regression              72.430    72.070    71.340    71.580   \n",
              "LDA                              71.700    70.610    70.730    71.580   \n",
              "K-Neighbors Classifier           68.410    69.390    70.730    68.040   \n",
              "Decision Tree Classifier         67.440    66.590    67.070    67.070   \n",
              "Random Forest Classifier         71.460    71.220    70.000    70.240   \n",
              "Gaussian Naive Bayes             70.120    70.120    69.870    69.990   \n",
              "SVM                              72.310    71.090    71.460    72.310   \n",
              "Bagging Classifier               68.290    70.000    67.560    70.240   \n",
              "Ada Boost Classifier             69.870    71.460    70.000    69.750   \n",
              "Gradient Boosting Classifier     70.490    71.340    70.850    70.480   \n",
              "Ensemble: Stacking Classifier    71.090    72.680    71.090    72.430   \n",
              "\n",
              "                               n_comp=10  n_comp=11  \n",
              "Logistic Regression               70.730     71.580  \n",
              "LDA                               71.090     71.460  \n",
              "K-Neighbors Classifier            70.240     68.900  \n",
              "Decision Tree Classifier          68.650     69.390  \n",
              "Random Forest Classifier          70.240     70.730  \n",
              "Gaussian Naive Bayes              70.970     69.990  \n",
              "SVM                               72.070     72.310  \n",
              "Bagging Classifier                69.020     69.750  \n",
              "Ada Boost Classifier              69.020     69.020  \n",
              "Gradient Boosting Classifier      70.360     70.480  \n",
              "Ensemble: Stacking Classifier     71.820     70.970  "
            ],
            "text/html": [
              "\n",
              "  <div id=\"df-6e1e762b-7226-4ffc-b22d-4cac65730067\">\n",
              "    <div class=\"colab-df-container\">\n",
              "      <div>\n",
              "<style scoped>\n",
              "    .dataframe tbody tr th:only-of-type {\n",
              "        vertical-align: middle;\n",
              "    }\n",
              "\n",
              "    .dataframe tbody tr th {\n",
              "        vertical-align: top;\n",
              "    }\n",
              "\n",
              "    .dataframe thead th {\n",
              "        text-align: right;\n",
              "    }\n",
              "</style>\n",
              "<table border=\"1\" class=\"dataframe\">\n",
              "  <thead>\n",
              "    <tr style=\"text-align: right;\">\n",
              "      <th></th>\n",
              "      <th>n_comp=2</th>\n",
              "      <th>n_comp=3</th>\n",
              "      <th>n_comp=4</th>\n",
              "      <th>n_comp=5</th>\n",
              "      <th>n_comp=6</th>\n",
              "      <th>n_comp=7</th>\n",
              "      <th>n_comp=8</th>\n",
              "      <th>n_comp=9</th>\n",
              "      <th>n_comp=10</th>\n",
              "      <th>n_comp=11</th>\n",
              "    </tr>\n",
              "  </thead>\n",
              "  <tbody>\n",
              "    <tr>\n",
              "      <th>Logistic Regression</th>\n",
              "      <td>72.680</td>\n",
              "      <td>72.310</td>\n",
              "      <td>72.430</td>\n",
              "      <td>72.190</td>\n",
              "      <td>72.430</td>\n",
              "      <td>72.070</td>\n",
              "      <td>71.340</td>\n",
              "      <td>71.580</td>\n",
              "      <td>70.730</td>\n",
              "      <td>71.580</td>\n",
              "    </tr>\n",
              "    <tr>\n",
              "      <th>LDA</th>\n",
              "      <td>72.800</td>\n",
              "      <td>72.070</td>\n",
              "      <td>71.820</td>\n",
              "      <td>70.720</td>\n",
              "      <td>71.700</td>\n",
              "      <td>70.610</td>\n",
              "      <td>70.730</td>\n",
              "      <td>71.580</td>\n",
              "      <td>71.090</td>\n",
              "      <td>71.460</td>\n",
              "    </tr>\n",
              "    <tr>\n",
              "      <th>K-Neighbors Classifier</th>\n",
              "      <td>70.240</td>\n",
              "      <td>70.730</td>\n",
              "      <td>69.140</td>\n",
              "      <td>69.020</td>\n",
              "      <td>68.410</td>\n",
              "      <td>69.390</td>\n",
              "      <td>70.730</td>\n",
              "      <td>68.040</td>\n",
              "      <td>70.240</td>\n",
              "      <td>68.900</td>\n",
              "    </tr>\n",
              "    <tr>\n",
              "      <th>Decision Tree Classifier</th>\n",
              "      <td>68.540</td>\n",
              "      <td>67.560</td>\n",
              "      <td>68.660</td>\n",
              "      <td>67.930</td>\n",
              "      <td>67.440</td>\n",
              "      <td>66.590</td>\n",
              "      <td>67.070</td>\n",
              "      <td>67.070</td>\n",
              "      <td>68.650</td>\n",
              "      <td>69.390</td>\n",
              "    </tr>\n",
              "    <tr>\n",
              "      <th>Random Forest Classifier</th>\n",
              "      <td>70.240</td>\n",
              "      <td>70.120</td>\n",
              "      <td>70.000</td>\n",
              "      <td>70.480</td>\n",
              "      <td>71.460</td>\n",
              "      <td>71.220</td>\n",
              "      <td>70.000</td>\n",
              "      <td>70.240</td>\n",
              "      <td>70.240</td>\n",
              "      <td>70.730</td>\n",
              "    </tr>\n",
              "    <tr>\n",
              "      <th>Gaussian Naive Bayes</th>\n",
              "      <td>71.820</td>\n",
              "      <td>71.090</td>\n",
              "      <td>70.610</td>\n",
              "      <td>68.780</td>\n",
              "      <td>70.120</td>\n",
              "      <td>70.120</td>\n",
              "      <td>69.870</td>\n",
              "      <td>69.990</td>\n",
              "      <td>70.970</td>\n",
              "      <td>69.990</td>\n",
              "    </tr>\n",
              "    <tr>\n",
              "      <th>SVM</th>\n",
              "      <td>73.530</td>\n",
              "      <td>72.800</td>\n",
              "      <td>72.430</td>\n",
              "      <td>71.940</td>\n",
              "      <td>72.310</td>\n",
              "      <td>71.090</td>\n",
              "      <td>71.460</td>\n",
              "      <td>72.310</td>\n",
              "      <td>72.070</td>\n",
              "      <td>72.310</td>\n",
              "    </tr>\n",
              "    <tr>\n",
              "      <th>Bagging Classifier</th>\n",
              "      <td>70.480</td>\n",
              "      <td>68.290</td>\n",
              "      <td>69.510</td>\n",
              "      <td>69.750</td>\n",
              "      <td>68.290</td>\n",
              "      <td>70.000</td>\n",
              "      <td>67.560</td>\n",
              "      <td>70.240</td>\n",
              "      <td>69.020</td>\n",
              "      <td>69.750</td>\n",
              "    </tr>\n",
              "    <tr>\n",
              "      <th>Ada Boost Classifier</th>\n",
              "      <td>74.020</td>\n",
              "      <td>73.530</td>\n",
              "      <td>73.160</td>\n",
              "      <td>72.800</td>\n",
              "      <td>69.870</td>\n",
              "      <td>71.460</td>\n",
              "      <td>70.000</td>\n",
              "      <td>69.750</td>\n",
              "      <td>69.020</td>\n",
              "      <td>69.020</td>\n",
              "    </tr>\n",
              "    <tr>\n",
              "      <th>Gradient Boosting Classifier</th>\n",
              "      <td>72.310</td>\n",
              "      <td>70.730</td>\n",
              "      <td>70.480</td>\n",
              "      <td>71.330</td>\n",
              "      <td>70.490</td>\n",
              "      <td>71.340</td>\n",
              "      <td>70.850</td>\n",
              "      <td>70.480</td>\n",
              "      <td>70.360</td>\n",
              "      <td>70.480</td>\n",
              "    </tr>\n",
              "    <tr>\n",
              "      <th>Ensemble: Stacking Classifier</th>\n",
              "      <td>72.920</td>\n",
              "      <td>72.800</td>\n",
              "      <td>71.460</td>\n",
              "      <td>71.940</td>\n",
              "      <td>71.090</td>\n",
              "      <td>72.680</td>\n",
              "      <td>71.090</td>\n",
              "      <td>72.430</td>\n",
              "      <td>71.820</td>\n",
              "      <td>70.970</td>\n",
              "    </tr>\n",
              "  </tbody>\n",
              "</table>\n",
              "</div>\n",
              "      <button class=\"colab-df-convert\" onclick=\"convertToInteractive('df-6e1e762b-7226-4ffc-b22d-4cac65730067')\"\n",
              "              title=\"Convert this dataframe to an interactive table.\"\n",
              "              style=\"display:none;\">\n",
              "        \n",
              "  <svg xmlns=\"http://www.w3.org/2000/svg\" height=\"24px\"viewBox=\"0 0 24 24\"\n",
              "       width=\"24px\">\n",
              "    <path d=\"M0 0h24v24H0V0z\" fill=\"none\"/>\n",
              "    <path d=\"M18.56 5.44l.94 2.06.94-2.06 2.06-.94-2.06-.94-.94-2.06-.94 2.06-2.06.94zm-11 1L8.5 8.5l.94-2.06 2.06-.94-2.06-.94L8.5 2.5l-.94 2.06-2.06.94zm10 10l.94 2.06.94-2.06 2.06-.94-2.06-.94-.94-2.06-.94 2.06-2.06.94z\"/><path d=\"M17.41 7.96l-1.37-1.37c-.4-.4-.92-.59-1.43-.59-.52 0-1.04.2-1.43.59L10.3 9.45l-7.72 7.72c-.78.78-.78 2.05 0 2.83L4 21.41c.39.39.9.59 1.41.59.51 0 1.02-.2 1.41-.59l7.78-7.78 2.81-2.81c.8-.78.8-2.07 0-2.86zM5.41 20L4 18.59l7.72-7.72 1.47 1.35L5.41 20z\"/>\n",
              "  </svg>\n",
              "      </button>\n",
              "      \n",
              "  <style>\n",
              "    .colab-df-container {\n",
              "      display:flex;\n",
              "      flex-wrap:wrap;\n",
              "      gap: 12px;\n",
              "    }\n",
              "\n",
              "    .colab-df-convert {\n",
              "      background-color: #E8F0FE;\n",
              "      border: none;\n",
              "      border-radius: 50%;\n",
              "      cursor: pointer;\n",
              "      display: none;\n",
              "      fill: #1967D2;\n",
              "      height: 32px;\n",
              "      padding: 0 0 0 0;\n",
              "      width: 32px;\n",
              "    }\n",
              "\n",
              "    .colab-df-convert:hover {\n",
              "      background-color: #E2EBFA;\n",
              "      box-shadow: 0px 1px 2px rgba(60, 64, 67, 0.3), 0px 1px 3px 1px rgba(60, 64, 67, 0.15);\n",
              "      fill: #174EA6;\n",
              "    }\n",
              "\n",
              "    [theme=dark] .colab-df-convert {\n",
              "      background-color: #3B4455;\n",
              "      fill: #D2E3FC;\n",
              "    }\n",
              "\n",
              "    [theme=dark] .colab-df-convert:hover {\n",
              "      background-color: #434B5C;\n",
              "      box-shadow: 0px 1px 3px 1px rgba(0, 0, 0, 0.15);\n",
              "      filter: drop-shadow(0px 1px 2px rgba(0, 0, 0, 0.3));\n",
              "      fill: #FFFFFF;\n",
              "    }\n",
              "  </style>\n",
              "\n",
              "      <script>\n",
              "        const buttonEl =\n",
              "          document.querySelector('#df-6e1e762b-7226-4ffc-b22d-4cac65730067 button.colab-df-convert');\n",
              "        buttonEl.style.display =\n",
              "          google.colab.kernel.accessAllowed ? 'block' : 'none';\n",
              "\n",
              "        async function convertToInteractive(key) {\n",
              "          const element = document.querySelector('#df-6e1e762b-7226-4ffc-b22d-4cac65730067');\n",
              "          const dataTable =\n",
              "            await google.colab.kernel.invokeFunction('convertToInteractive',\n",
              "                                                     [key], {});\n",
              "          if (!dataTable) return;\n",
              "\n",
              "          const docLinkHtml = 'Like what you see? Visit the ' +\n",
              "            '<a target=\"_blank\" href=https://colab.research.google.com/notebooks/data_table.ipynb>data table notebook</a>'\n",
              "            + ' to learn more about interactive tables.';\n",
              "          element.innerHTML = '';\n",
              "          dataTable['output_type'] = 'display_data';\n",
              "          await google.colab.output.renderOutput(dataTable, element);\n",
              "          const docLink = document.createElement('div');\n",
              "          docLink.innerHTML = docLinkHtml;\n",
              "          element.appendChild(docLink);\n",
              "        }\n",
              "      </script>\n",
              "    </div>\n",
              "  </div>\n",
              "  "
            ]
          },
          "metadata": {},
          "execution_count": 54
        }
      ]
    },
    {
      "cell_type": "markdown",
      "source": [
        "### **n_component Plots**"
      ],
      "metadata": {
        "id": "X68ZBfzPiC2X"
      }
    },
    {
      "cell_type": "code",
      "source": [
        "n_array, lr, lda, knn, dst, rf, gnb, svm, bc, abc, gbc, ensemble = n_plotPCA(data1)"
      ],
      "metadata": {
        "id": "qb0Cb6jatRSK"
      },
      "execution_count": null,
      "outputs": []
    },
    {
      "cell_type": "code",
      "source": [
        "plt.title('Accuracy vs n_components')\n",
        "plt.plot(n_array, lr, linestyle='--', linewidth=2, label='Logistic Regression')\n",
        "plt.plot(n_array, rf, linestyle='--', linewidth=2, label='Random Forest')\n",
        "plt.plot(n_array, gnb, linestyle='--', linewidth=2, label='Gaussian Naive Bayes')\n",
        "plt.plot(n_array, svm, linestyle='--', linewidth=2, label='SVM')\n",
        "plt.plot(n_array, abc, linestyle='--', linewidth=2, label='AdaBoost Classifier')\n",
        "plt.plot(n_array, gbc, linestyle='--', linewidth=2, label='Gradient Boosting Classifier')\n",
        "plt.plot(n_array, ensemble, linestyle='--', linewidth=2, label='Logistic Regression')\n",
        "plt.legend()\n",
        "plt.show()"
      ],
      "metadata": {
        "id": "y5rUW5FBg7lL",
        "colab": {
          "base_uri": "https://localhost:8080/",
          "height": 281
        },
        "outputId": "71a1dc1f-bdff-40a5-a7e0-1bc0d359b169"
      },
      "execution_count": null,
      "outputs": [
        {
          "output_type": "display_data",
          "data": {
            "text/plain": [
              "<Figure size 432x288 with 1 Axes>"
            ],
            "image/png": "[encoded data removed]"
          },
          "metadata": {
            "needs_background": "light"
          }
        }
      ]
    },
    {
      "cell_type": "code",
      "source": [
        "plt.title('Accuracy vs n_components')\n",
        "plt.plot(n_array, lr, linestyle='--', linewidth=2, color = 'red', label='Logistic Regression')\n",
        "plt.legend()\n",
        "plt.show()"
      ],
      "metadata": {
        "id": "WWtqeHaFJogY",
        "colab": {
          "base_uri": "https://localhost:8080/",
          "height": 281
        },
        "outputId": "632c9f3e-b5db-4921-968b-331f888ca596"
      },
      "execution_count": null,
      "outputs": [
        {
          "output_type": "display_data",
          "data": {
            "text/plain": [
              "<Figure size 432x288 with 1 Axes>"
            ],
            "image/png": "[encoded data removed]"
          },
          "metadata": {
            "needs_background": "light"
          }
        }
      ]
    },
    {
      "cell_type": "code",
      "source": [
        "plt.title('Accuracy vs n_components')\n",
        "plt.plot(n_array, rf, linestyle='--', linewidth=2, color = 'red', label='Random Forest')\n",
        "plt.legend()\n",
        "plt.show()"
      ],
      "metadata": {
        "id": "dUad1-CtHdro",
        "colab": {
          "base_uri": "https://localhost:8080/",
          "height": 281
        },
        "outputId": "b1a54072-145c-4c4b-ee6a-f81892e98911"
      },
      "execution_count": null,
      "outputs": [
        {
          "output_type": "display_data",
          "data": {
            "text/plain": [
              "<Figure size 432x288 with 1 Axes>"
            ],
            "image/png": "[encoded data removed]"
          },
          "metadata": {
            "needs_background": "light"
          }
        }
      ]
    },
    {
      "cell_type": "code",
      "source": [
        "plt.title('Accuracy vs n_components')\n",
        "plt.plot(n_array, gnb, linestyle='--', linewidth=2, color = 'red', label='Gaussian Naive Bayes')\n",
        "plt.legend()\n",
        "plt.show()"
      ],
      "metadata": {
        "id": "dVT1JB-iHd0e",
        "colab": {
          "base_uri": "https://localhost:8080/",
          "height": 281
        },
        "outputId": "63e73c0d-7b8e-408c-d2b3-a09d06d9cfb7"
      },
      "execution_count": null,
      "outputs": [
        {
          "output_type": "display_data",
          "data": {
            "text/plain": [
              "<Figure size 432x288 with 1 Axes>"
            ],
            "image/png": "[encoded data removed]"
          },
          "metadata": {
            "needs_background": "light"
          }
        }
      ]
    },
    {
      "cell_type": "code",
      "source": [
        "plt.title('Accuracy vs n_components')\n",
        "plt.plot(n_array, svm, linestyle='--', linewidth=2, color = 'red', label='SVM')\n",
        "plt.legend()\n",
        "plt.show()"
      ],
      "metadata": {
        "id": "UgbKaxAWHd20",
        "colab": {
          "base_uri": "https://localhost:8080/",
          "height": 281
        },
        "outputId": "3b53b531-3767-45e0-b504-c5d45751bb28"
      },
      "execution_count": null,
      "outputs": [
        {
          "output_type": "display_data",
          "data": {
            "text/plain": [
              "<Figure size 432x288 with 1 Axes>"
            ],
            "image/png": "[encoded data removed]"
          },
          "metadata": {
            "needs_background": "light"
          }
        }
      ]
    },
    {
      "cell_type": "code",
      "source": [
        "plt.title('Accuracy vs n_components')\n",
        "plt.plot(n_array, abc, linestyle='--', linewidth=2, color = 'red', label='Ada Boost')\n",
        "plt.legend()\n",
        "plt.show()"
      ],
      "metadata": {
        "id": "eIpzWGT7Hd5i",
        "colab": {
          "base_uri": "https://localhost:8080/",
          "height": 281
        },
        "outputId": "bbafbe42-da8e-48c6-817d-20596b879858"
      },
      "execution_count": null,
      "outputs": [
        {
          "output_type": "display_data",
          "data": {
            "text/plain": [
              "<Figure size 432x288 with 1 Axes>"
            ],
            "image/png": "[encoded data removed]"
          },
          "metadata": {
            "needs_background": "light"
          }
        }
      ]
    },
    {
      "cell_type": "code",
      "source": [
        "plt.title('Accuracy vs n_components')\n",
        "plt.plot(n_array, gbc, linestyle='--', linewidth=2, color = 'red', label='Gradient Boosting')\n",
        "plt.legend()\n",
        "plt.show()"
      ],
      "metadata": {
        "id": "WPMaicPvHd7t",
        "colab": {
          "base_uri": "https://localhost:8080/",
          "height": 281
        },
        "outputId": "61650a72-1eb3-4fa2-8b04-981901d02b9a"
      },
      "execution_count": null,
      "outputs": [
        {
          "output_type": "display_data",
          "data": {
            "text/plain": [
              "<Figure size 432x288 with 1 Axes>"
            ],
            "image/png": "[encoded data removed]"
          },
          "metadata": {
            "needs_background": "light"
          }
        }
      ]
    },
    {
      "cell_type": "code",
      "source": [
        "plt.title('Accuracy vs n_components')\n",
        "plt.plot(n_array, ensemble, linestyle='--', linewidth=2, color = 'red', label='Ensemble')\n",
        "plt.legend()\n",
        "plt.show()"
      ],
      "metadata": {
        "id": "_wy3DEO0Hd9n",
        "colab": {
          "base_uri": "https://localhost:8080/",
          "height": 281
        },
        "outputId": "8d53362a-89dc-479d-e562-8f7ff42ba103"
      },
      "execution_count": null,
      "outputs": [
        {
          "output_type": "display_data",
          "data": {
            "text/plain": [
              "<Figure size 432x288 with 1 Axes>"
            ],
            "image/png": "[encoded data removed]"
          },
          "metadata": {
            "needs_background": "light"
          }
        }
      ]
    },
    {
      "cell_type": "markdown",
      "source": [
        "### **Conclusions for PCA**"
      ],
      "metadata": {
        "id": "9Upkpmuevl0U"
      }
    },
    {
      "cell_type": "code",
      "source": [
        "# best n_component = 2\n",
        "#\n",
        "sc = StandardScaler()\n",
        "data1p = sc.fit_transform(data1)\n",
        "pca = PCA(n_components = 2)\n",
        "data1p = pca.fit_transform(data1p)"
      ],
      "metadata": {
        "id": "D-n02xp2vlN6"
      },
      "execution_count": null,
      "outputs": []
    },
    {
      "cell_type": "code",
      "source": [
        "model_plot(data1p, 'Accuracy')"
      ],
      "metadata": {
        "id": "CFUNcyz4wAT0",
        "colab": {
          "base_uri": "https://localhost:8080/",
          "height": 403
        },
        "outputId": "635a05d1-3a03-4627-ce59-0a250f7ee7de"
      },
      "execution_count": null,
      "outputs": [
        {
          "output_type": "display_data",
          "data": {
            "text/plain": [
              "<Figure size 432x288 with 1 Axes>"
            ],
            "image/png": "[encoded data removed]"
          },
          "metadata": {
            "needs_background": "light"
          }
        }
      ]
    },
    {
      "cell_type": "code",
      "source": [
        "model_plot(data1p, 'F1 Score')"
      ],
      "metadata": {
        "id": "UwBdWvrxP85k"
      },
      "execution_count": null,
      "outputs": []
    },
    {
      "cell_type": "markdown",
      "metadata": {
        "id": "FACMWgYKyi7b"
      },
      "source": [
        "## **UMAP**"
      ]
    },
    {
      "cell_type": "code",
      "execution_count": null,
      "metadata": {
        "id": "1pV9TP_FVzF0"
      },
      "outputs": [],
      "source": [
        "reducer = umap.UMAP()\n",
        "data1u = reducer.fit_transform(data1)"
      ]
    },
    {
      "cell_type": "code",
      "source": [
        "data1u.shape"
      ],
      "metadata": {
        "id": "kMu7f_eDM1Ai"
      },
      "execution_count": null,
      "outputs": []
    },
    {
      "cell_type": "code",
      "source": [
        "model_plot(data1u, 'Accuracy')"
      ],
      "metadata": {
        "id": "R1B6fyO-w286"
      },
      "execution_count": null,
      "outputs": []
    },
    {
      "cell_type": "code",
      "source": [
        "model_plot(data1u, 'F1 Score')"
      ],
      "metadata": {
        "id": "uJmcgYH2QVC2"
      },
      "execution_count": null,
      "outputs": []
    },
    {
      "cell_type": "markdown",
      "source": [
        "## **ISOMAP**"
      ],
      "metadata": {
        "id": "mAZoEvhu-JOm"
      }
    },
    {
      "cell_type": "code",
      "source": [
        "def n_isomap(data):\n",
        "    #model_names = ['Logistic Regression', 'LDA', 'K-Neighbors Classifier', 'Decision Tree Classifier', 'Random Forest Classifier', 'Gaussian Naive Bayes', 'SVM',\n",
        "                    #'Bagging Classifier', 'Ada Boost Classifier', 'Gradient Boosting Classifier', 'Ensemble: Stacking Classifier']\n",
        "    #plt.figure(figsize=(100, 100)\n",
        "    n_array = []\n",
        "    lr, lda, knn, dst, rf, gnb, svm, bc, abc, gbc, ensemble = [], [], [], [], [], [], [], [], [], [], []\n",
        "    for i in range(2, 12):\n",
        "        n_array.append(i)\n",
        "        embedding = Isomap(n_components=i)\n",
        "        data2 = embedding.fit_transform(data[:len(data)])\n",
        "        #print('Result for PCA : n_components=', i)\n",
        "        score = summary_report(data2)\n",
        "        lr.append(score['Accuracy'][0])\n",
        "        lda.append(score['Accuracy'][1])\n",
        "        knn.append(score['Accuracy'][2])\n",
        "        dst.append(score['Accuracy'][3])\n",
        "        rf.append(score['Accuracy'][4])\n",
        "        gnb.append(score['Accuracy'][5])\n",
        "        svm.append(score['Accuracy'][6])\n",
        "        bc.append(score['Accuracy'][7])\n",
        "        abc.append(score['Accuracy'][8])\n",
        "        gbc.append(score['Accuracy'][9])\n",
        "        ensemble.append(score['Accuracy'][10])\n",
        "    return n_array, lr, lda, knn, dst, rf, gnb, svm, bc, abc, gbc, ensemble"
      ],
      "metadata": {
        "id": "BWymb8Uywxki"
      },
      "execution_count": null,
      "outputs": []
    },
    {
      "cell_type": "code",
      "source": [
        "def n_tableISOMAP(data):\n",
        "    final_score = pd.DataFrame()\n",
        "    for i in range(2, len(data.columns)):\n",
        "        name = 'n_comp =' + str(i)\n",
        "        embedding = Isomap(n_components=i)\n",
        "        data2 = embedding.fit_transform(data[:len(data)])\n",
        "        score = summary_report(data2)\n",
        "        final_score[name] = score['Accuracy']\n",
        "    return final_score"
      ],
      "metadata": {
        "id": "FB9J4iRywylw"
      },
      "execution_count": null,
      "outputs": []
    },
    {
      "cell_type": "code",
      "source": [
        "n_tableISOMAP(data1)"
      ],
      "metadata": {
        "id": "YuPbL3SWRWtg"
      },
      "execution_count": null,
      "outputs": []
    },
    {
      "cell_type": "markdown",
      "source": [
        "### **n_component Plots**"
      ],
      "metadata": {
        "id": "hu0atm_jRJKl"
      }
    },
    {
      "cell_type": "code",
      "source": [
        "n_array, lr, lda, knn, dst, rf, gnb, svm, bc, abc, gbc, ensemble = n_isomap(data1)"
      ],
      "metadata": {
        "id": "3SikR6nXRJKq"
      },
      "execution_count": null,
      "outputs": []
    },
    {
      "cell_type": "code",
      "source": [
        "plt.title('Accracy vs n_components')\n",
        "plt.plot(n_array, lr, linestyle='--', linewidth=2, label='Logistic Regression')\n",
        "plt.plot(n_array, rf, linestyle='--', linewidth=2, label='Random Forest')\n",
        "plt.plot(n_array, gnb, linestyle='--', linewidth=2, label='Gaussian Naive Bayes')\n",
        "plt.plot(n_array, svm, linestyle='--', linewidth=2, label='SVM')\n",
        "plt.plot(n_array, abc, linestyle='--', linewidth=2, label='AdaBoost Classifier')\n",
        "plt.plot(n_array, gbc, linestyle='--', linewidth=2, label='Gradient Boosting Classifier')\n",
        "plt.plot(n_array, ensemble, linestyle='--', linewidth=2, label='Logistic Regression')\n",
        "plt.legend()\n",
        "plt.show()"
      ],
      "metadata": {
        "id": "jHCe1lnRRJKq"
      },
      "execution_count": null,
      "outputs": []
    },
    {
      "cell_type": "code",
      "source": [
        "plt.title('Accuracy vs n_components')\n",
        "plt.plot(n_array, lr, linestyle='--', linewidth=2, color = 'red', label='Logistic Regression')\n",
        "plt.legend()\n",
        "plt.show()"
      ],
      "metadata": {
        "id": "FD7WKmmlRJKq"
      },
      "execution_count": null,
      "outputs": []
    },
    {
      "cell_type": "code",
      "source": [
        "plt.title('Accuracy vs n_components')\n",
        "plt.plot(n_array, rf, linestyle='--', linewidth=2, color = 'red', label='Random Forest')\n",
        "plt.legend()\n",
        "plt.show()"
      ],
      "metadata": {
        "id": "Zf2Tlq9eRJKq"
      },
      "execution_count": null,
      "outputs": []
    },
    {
      "cell_type": "code",
      "source": [
        "plt.title('Accuracy vs n_components')\n",
        "plt.plot(n_array, gnb, linestyle='--', linewidth=2, color = 'red', label='Gaussian Naive Bayes')\n",
        "plt.legend()\n",
        "plt.show()"
      ],
      "metadata": {
        "id": "wlHKF-etRJKq"
      },
      "execution_count": null,
      "outputs": []
    },
    {
      "cell_type": "code",
      "source": [
        "plt.title('Accuracy vs n_components')\n",
        "plt.plot(n_array, svm, linestyle='--', linewidth=2, color = 'red', label='SVM')\n",
        "plt.legend()\n",
        "plt.show()"
      ],
      "metadata": {
        "id": "gj54cjQpRJKq"
      },
      "execution_count": null,
      "outputs": []
    },
    {
      "cell_type": "code",
      "source": [
        "plt.title('Accuracy vs n_components')\n",
        "plt.plot(n_array, abc, linestyle='--', linewidth=2, color = 'red', label='Ada Boost')\n",
        "plt.legend()\n",
        "plt.show()"
      ],
      "metadata": {
        "id": "O6X9alz0RJKr"
      },
      "execution_count": null,
      "outputs": []
    },
    {
      "cell_type": "code",
      "source": [
        "plt.title('Accuracy vs n_components')\n",
        "plt.plot(n_array, gbc, linestyle='--', linewidth=2, color = 'red', label='Gradient Boosting')\n",
        "plt.legend()\n",
        "plt.show()"
      ],
      "metadata": {
        "id": "2HCU0j7IRJKr"
      },
      "execution_count": null,
      "outputs": []
    },
    {
      "cell_type": "code",
      "source": [
        "plt.title('Accuracy vs n_components')\n",
        "plt.plot(n_array, ensemble, linestyle='--', linewidth=2, color = 'red', label='Ensemble')\n",
        "plt.legend()\n",
        "plt.show()"
      ],
      "metadata": {
        "id": "tmmha29oRJKr"
      },
      "execution_count": null,
      "outputs": []
    },
    {
      "cell_type": "markdown",
      "source": [
        "### **Conclusions for ISOMAP**"
      ],
      "metadata": {
        "id": "cHztUVvzxKyD"
      }
    },
    {
      "cell_type": "code",
      "source": [
        "# best n_component = 11\n",
        "#\n",
        "embedding = Isomap(n_components=11)\n",
        "data1i = embedding.fit_transform(data1[:len(data1)])"
      ],
      "metadata": {
        "id": "Bad5wjrbxKyD"
      },
      "execution_count": null,
      "outputs": []
    },
    {
      "cell_type": "code",
      "source": [
        "model_plot(data1i, 'Accuracy')"
      ],
      "metadata": {
        "id": "B_TB_20PxKyD"
      },
      "execution_count": null,
      "outputs": []
    },
    {
      "cell_type": "code",
      "source": [
        "model_plot(data1i, 'F1 Score')"
      ],
      "metadata": {
        "id": "UZN2468rTDRw"
      },
      "execution_count": null,
      "outputs": []
    },
    {
      "cell_type": "markdown",
      "source": [
        "## **Feature Reduction Technique Comparison**"
      ],
      "metadata": {
        "id": "ejmhquh8xizA"
      }
    },
    {
      "cell_type": "code",
      "source": [
        "def feature_plot(data, var):\n",
        "    import umap.umap_ as umap\n",
        "\n",
        "    sc = StandardScaler()\n",
        "    data1 = sc.fit_transform(data)\n",
        "    pca = PCA(n_components = 2)\n",
        "    data1 = pca.fit_transform(data1)\n",
        "\n",
        "    reducer = umap.UMAP()\n",
        "    data2 = reducer.fit_transform(data)\n",
        "\n",
        "    embedding = Isomap(n_components=11)\n",
        "    data3 = embedding.fit_transform(data[:len(data)])\n",
        "\n",
        "    tabular_score = pd.DataFrame()\n",
        "\n",
        "    score = summary_report(data)\n",
        "    nofr = score[var]\n",
        "    tabular_score['Without FR'] = nofr\n",
        "    score1 = summary_report(data1)\n",
        "    pca = score1[var]\n",
        "    tabular_score['PCA'] = pca\n",
        "    score2 = summary_report(data2)\n",
        "    umap = score2[var]\n",
        "    tabular_score['UMAP'] = umap\n",
        "    score3 = summary_report(data3)\n",
        "    isomap = score3[var]\n",
        "    tabular_score['ISOMAP'] = isomap\n",
        "    model_names = ['Logistic Regression', 'LDA', 'K-Neighbors Classifier', 'Decision Tree Classifier', 'Random Forest Classifier', 'Gaussian Naive Bayes', 'SVM',\n",
        "                 'Bagging Classifier', 'Ada Boost Classifier', 'Gradient Boosting Classifier', 'Ensemble: Stacking Classifier']\n",
        "    plt.plot(model_names, nofr, linestyle='--', linewidth=2, color='orange', label='Without FR Techniques')\n",
        "    plt.plot(model_names, pca, linestyle='--', linewidth=2, color='red', label='PCA')\n",
        "    plt.plot(model_names, umap, linestyle='--', linewidth=2, color='blue', label='UMAP')\n",
        "    plt.plot(model_names, isomap, linestyle='--', linewidth=2, color='green', label='ISOMAP')\n",
        "    plt.xticks(rotation=90)\n",
        "    plt.legend()\n",
        "    return plt, tabular_score"
      ],
      "metadata": {
        "id": "HxV2Lb1Pw-BS"
      },
      "execution_count": null,
      "outputs": []
    },
    {
      "cell_type": "code",
      "source": [
        "plt1, tabular_score1 = feature_plot(data1, 'Accuracy')"
      ],
      "metadata": {
        "id": "X3Aj1GxpxuLz"
      },
      "execution_count": null,
      "outputs": []
    },
    {
      "cell_type": "code",
      "source": [
        "tabular_score1"
      ],
      "metadata": {
        "id": "GhrfBTqODU1d"
      },
      "execution_count": null,
      "outputs": []
    },
    {
      "cell_type": "code",
      "source": [
        "plt2, tabular_score2 = feature_plot(data1, 'Training-Time')"
      ],
      "metadata": {
        "id": "uRnvSj4SFAZp"
      },
      "execution_count": null,
      "outputs": []
    },
    {
      "cell_type": "code",
      "source": [
        "tabular_score2"
      ],
      "metadata": {
        "id": "ASsJCSWDFAbj"
      },
      "execution_count": null,
      "outputs": []
    },
    {
      "cell_type": "code",
      "source": [
        "plt3, tabular_score3 = feature_plot(data1, 'F1 Score')"
      ],
      "metadata": {
        "id": "KXTt2yqmThUv"
      },
      "execution_count": null,
      "outputs": []
    },
    {
      "cell_type": "code",
      "source": [
        "tabular_score3"
      ],
      "metadata": {
        "id": "mJliiqDoF-dw"
      },
      "execution_count": null,
      "outputs": []
    },
    {
      "cell_type": "markdown",
      "source": [
        "# **Kaggle Dataset results**"
      ],
      "metadata": {
        "id": "ad8SzmrWUq3v"
      }
    },
    {
      "cell_type": "code",
      "source": [
        "data1, labels1 = find_label(total_data2)"
      ],
      "metadata": {
        "id": "tgjRmcVidEcb"
      },
      "execution_count": null,
      "outputs": []
    },
    {
      "cell_type": "markdown",
      "source": [
        "## **Data Analysis**"
      ],
      "metadata": {
        "id": "YdZYeQw1dt9o"
      }
    },
    {
      "cell_type": "code",
      "source": [
        "analysis(data1)"
      ],
      "metadata": {
        "id": "x_f0jN6ldt9p"
      },
      "execution_count": null,
      "outputs": []
    },
    {
      "cell_type": "code",
      "source": [
        "correlation_plot(data1)"
      ],
      "metadata": {
        "id": "x6WHF3qsdt9p"
      },
      "execution_count": null,
      "outputs": []
    },
    {
      "cell_type": "markdown",
      "source": [
        "## **Model plot**"
      ],
      "metadata": {
        "id": "O7mWcCkedt9p"
      }
    },
    {
      "cell_type": "code",
      "source": [
        "model_plot(data1, 'Accuracy')"
      ],
      "metadata": {
        "id": "qHcYCMjIdt9p"
      },
      "execution_count": null,
      "outputs": []
    },
    {
      "cell_type": "code",
      "source": [
        "model_plot(data1, 'F1 Score')"
      ],
      "metadata": {
        "id": "aBoJ6isbdt9p"
      },
      "execution_count": null,
      "outputs": []
    },
    {
      "cell_type": "markdown",
      "metadata": {
        "id": "6yDoW-Isdt9p"
      },
      "source": [
        "## **PCA**"
      ]
    },
    {
      "cell_type": "code",
      "source": [
        "def complete_PCA_analysis(data, var):\n",
        "  sc = StandardScaler()\n",
        "  data2 = sc.fit_transform(data)\n",
        "  model_names = ['Logistic Regression', 'LDA', 'K-Neighbors Classifier', 'Decision Tree Classifier', 'Random Forest Classifier', 'Gaussian Naive Bayes', 'SVM',\n",
        "                  'Bagging Classifier', 'Ada Boost Classifier', 'Gradient Boosting Classifier', 'Ensemble: Stacking Classifier']\n",
        "  for i in range(2, data2.shape[1]):\n",
        "      pca = PCA(n_components = i)\n",
        "      data3 = pca.fit_transform(data2)\n",
        "      explained_variance = pca.explained_variance_ratio_\n",
        "      #print('Result for PCA : n_components=', i)\n",
        "      score = summary_report(data3)\n",
        "      plt.plot(model_names,score[var], label=i)\n",
        "  plt.xticks(rotation=90)\n",
        "  plt.legend()\n",
        "  plt.show()"
      ],
      "metadata": {
        "id": "3DKsQAg4wRqk"
      },
      "execution_count": null,
      "outputs": []
    },
    {
      "cell_type": "code",
      "source": [
        "complete_PCA_analysis(data1, 'Accuracy')"
      ],
      "metadata": {
        "id": "JVt1SbwEdt9p"
      },
      "execution_count": null,
      "outputs": []
    },
    {
      "cell_type": "code",
      "source": [
        "complete_PCA_analysis(data1, 'F1 Score')"
      ],
      "metadata": {
        "id": "r5nxexl-dt9p"
      },
      "execution_count": null,
      "outputs": []
    },
    {
      "cell_type": "code",
      "source": [
        "def n_plotPCA(data):\n",
        "    sc = StandardScaler()\n",
        "    data2 = sc.fit_transform(data)\n",
        "    #model_names = ['Logistic Regression', 'LDA', 'K-Neighbors Classifier', 'Decision Tree Classifier', 'Random Forest Classifier', 'Gaussian Naive Bayes', 'SVM',\n",
        "                    #'Bagging Classifier', 'Ada Boost Classifier', 'Gradient Boosting Classifier', 'Ensemble: Stacking Classifier']\n",
        "    #plt.figure(figsize=(100, 100)\n",
        "    n_array = []\n",
        "    lr, lda, knn, dst, rf, gnb, svm, bc, abc, gbc, ensemble = [], [], [], [], [], [], [], [], [], [], []\n",
        "    for i in range(2, len(data.columns)):\n",
        "        n_array.append(i)\n",
        "        pca = PCA(n_components = i)\n",
        "        data3 = pca.fit_transform(data2)\n",
        "        explained_variance = pca.explained_variance_ratio_\n",
        "        #print('Result for PCA : n_components=', i)\n",
        "        score = summary_report(data3)\n",
        "        lr.append(score['Accuracy'][0])\n",
        "        lda.append(score['Accuracy'][1])\n",
        "        knn.append(score['Accuracy'][2])\n",
        "        dst.append(score['Accuracy'][3])\n",
        "        rf.append(score['Accuracy'][4])\n",
        "        gnb.append(score['Accuracy'][5])\n",
        "        svm.append(score['Accuracy'][6])\n",
        "        bc.append(score['Accuracy'][7])\n",
        "        abc.append(score['Accuracy'][8])\n",
        "        gbc.append(score['Accuracy'][9])\n",
        "        ensemble.append(score['Accuracy'][10])\n",
        "    return n_array, lr, lda, knn, dst, rf, gnb, svm, bc, abc, gbc, ensemble"
      ],
      "metadata": {
        "id": "JP-YBPGDwlei"
      },
      "execution_count": null,
      "outputs": []
    },
    {
      "cell_type": "code",
      "source": [
        "def n_tablePCA(data):\n",
        "    sc = StandardScaler()\n",
        "    data2 = sc.fit_transform(data)\n",
        "    final_score = pd.DataFrame()\n",
        "    for i in range(2, len(data.columns)):\n",
        "        name = 'n_comp =' + str(i)\n",
        "        pca = PCA(n_components = i)\n",
        "        data3 = pca.fit_transform(data2)\n",
        "        explained_variance = pca.explained_variance_ratio_\n",
        "        score = summary_report(data3)\n",
        "        final_score[name] = score['Accuracy']\n",
        "    return final_score"
      ],
      "metadata": {
        "id": "KJGWXnsUwrYB"
      },
      "execution_count": null,
      "outputs": []
    },
    {
      "cell_type": "code",
      "source": [
        "n_tablePCA(data1)"
      ],
      "metadata": {
        "id": "D0okBUVvdt9p"
      },
      "execution_count": null,
      "outputs": []
    },
    {
      "cell_type": "markdown",
      "source": [
        "### **n_component Plots**"
      ],
      "metadata": {
        "id": "1pMz-Dhjdt9p"
      }
    },
    {
      "cell_type": "code",
      "source": [
        "n_array, lr, lda, knn, dst, rf, gnb, svm, bc, abc, gbc, ensemble = n_plotPCA(data1)"
      ],
      "metadata": {
        "id": "c3KzCWf0dt9p"
      },
      "execution_count": null,
      "outputs": []
    },
    {
      "cell_type": "code",
      "source": [
        "plt.title('Accuracy vs n_components')\n",
        "plt.plot(n_array, lr, linestyle='--', linewidth=2, label='Logistic Regression')\n",
        "plt.plot(n_array, rf, linestyle='--', linewidth=2, label='Random Forest')\n",
        "plt.plot(n_array, gnb, linestyle='--', linewidth=2, label='Gaussian Naive Bayes')\n",
        "plt.plot(n_array, svm, linestyle='--', linewidth=2, label='SVM')\n",
        "plt.plot(n_array, abc, linestyle='--', linewidth=2, label='AdaBoost Classifier')\n",
        "plt.plot(n_array, gbc, linestyle='--', linewidth=2, label='Gradient Boosting Classifier')\n",
        "plt.plot(n_array, ensemble, linestyle='--', linewidth=2, label='Logistic Regression')\n",
        "plt.legend()\n",
        "plt.show()"
      ],
      "metadata": {
        "id": "sUsWKypQdt9q"
      },
      "execution_count": null,
      "outputs": []
    },
    {
      "cell_type": "code",
      "source": [
        "plt.title('Accuracy vs n_components')\n",
        "plt.plot(n_array, lr, linestyle='--', linewidth=2, color = 'red', label='Logistic Regression')\n",
        "plt.legend()\n",
        "plt.show()"
      ],
      "metadata": {
        "id": "VLMwPU4Wdt9q"
      },
      "execution_count": null,
      "outputs": []
    },
    {
      "cell_type": "code",
      "source": [
        "plt.title('Accuracy vs n_components')\n",
        "plt.plot(n_array, rf, linestyle='--', linewidth=2, color = 'red', label='Random Forest')\n",
        "plt.legend()\n",
        "plt.show()"
      ],
      "metadata": {
        "id": "5KcSpJ5hdt9q"
      },
      "execution_count": null,
      "outputs": []
    },
    {
      "cell_type": "code",
      "source": [
        "plt.title('Accuracy vs n_components')\n",
        "plt.plot(n_array, gnb, linestyle='--', linewidth=2, color = 'red', label='Gaussian Naive Bayes')\n",
        "plt.legend()\n",
        "plt.show()"
      ],
      "metadata": {
        "id": "CzH0WwoZdt9q"
      },
      "execution_count": null,
      "outputs": []
    },
    {
      "cell_type": "code",
      "source": [
        "plt.title('Accuracy vs n_components')\n",
        "plt.plot(n_array, svm, linestyle='--', linewidth=2, color = 'red', label='SVM')\n",
        "plt.legend()\n",
        "plt.show()"
      ],
      "metadata": {
        "id": "igvDsFeJdt9q"
      },
      "execution_count": null,
      "outputs": []
    },
    {
      "cell_type": "code",
      "source": [
        "plt.title('Accuracy vs n_components')\n",
        "plt.plot(n_array, abc, linestyle='--', linewidth=2, color = 'red', label='Ada Boost')\n",
        "plt.legend()\n",
        "plt.show()"
      ],
      "metadata": {
        "id": "X5W4ignPdt9q"
      },
      "execution_count": null,
      "outputs": []
    },
    {
      "cell_type": "code",
      "source": [
        "plt.title('Accuracy vs n_components')\n",
        "plt.plot(n_array, gbc, linestyle='--', linewidth=2, color = 'red', label='Gradient Boosting')\n",
        "plt.legend()\n",
        "plt.show()"
      ],
      "metadata": {
        "id": "D8eOh74rdt9q"
      },
      "execution_count": null,
      "outputs": []
    },
    {
      "cell_type": "code",
      "source": [
        "plt.title('Accuracy vs n_components')\n",
        "plt.plot(n_array, ensemble, linestyle='--', linewidth=2, color = 'red', label='Ensemble')\n",
        "plt.legend()\n",
        "plt.show()"
      ],
      "metadata": {
        "id": "45uzJttidt9q"
      },
      "execution_count": null,
      "outputs": []
    },
    {
      "cell_type": "markdown",
      "source": [
        "### **Conclusions for PCA**"
      ],
      "metadata": {
        "id": "w6Owf0-tdt9q"
      }
    },
    {
      "cell_type": "code",
      "source": [
        "# best n_component = 2\n",
        "#\n",
        "sc = StandardScaler()\n",
        "data1p = sc.fit_transform(data1)\n",
        "pca = PCA(n_components = 2)\n",
        "data1p = pca.fit_transform(data1p)"
      ],
      "metadata": {
        "id": "ij8SJ6ngdt9q"
      },
      "execution_count": null,
      "outputs": []
    },
    {
      "cell_type": "code",
      "source": [
        "model_plot(data1p, 'Accuracy')"
      ],
      "metadata": {
        "id": "96uYzq_idt9r"
      },
      "execution_count": null,
      "outputs": []
    },
    {
      "cell_type": "code",
      "source": [
        "model_plot(data1p, 'F1 Score')"
      ],
      "metadata": {
        "id": "rr8gpj6Ydt9r"
      },
      "execution_count": null,
      "outputs": []
    },
    {
      "cell_type": "markdown",
      "metadata": {
        "id": "AyAD0824dt9r"
      },
      "source": [
        "## **UMAP**"
      ]
    },
    {
      "cell_type": "code",
      "execution_count": null,
      "metadata": {
        "id": "CHCbEsTTdt9r"
      },
      "outputs": [],
      "source": [
        "reducer = umap.UMAP()\n",
        "data1u = reducer.fit_transform(data1)\n",
        "score = summary_report(data1u)"
      ]
    },
    {
      "cell_type": "code",
      "source": [
        "model_plot(data1u, 'Accuracy')"
      ],
      "metadata": {
        "id": "BxWnBxBFdt9s"
      },
      "execution_count": null,
      "outputs": []
    },
    {
      "cell_type": "code",
      "source": [
        "model_plot(data1u, 'F1 Score')"
      ],
      "metadata": {
        "id": "gjAvCG3Odt9s"
      },
      "execution_count": null,
      "outputs": []
    },
    {
      "cell_type": "markdown",
      "source": [
        "## **ISOMAP**"
      ],
      "metadata": {
        "id": "o6yFiu6Wdt9s"
      }
    },
    {
      "cell_type": "code",
      "source": [
        "def n_isomap(data):\n",
        "    #model_names = ['Logistic Regression', 'LDA', 'K-Neighbors Classifier', 'Decision Tree Classifier', 'Random Forest Classifier', 'Gaussian Naive Bayes', 'SVM',\n",
        "                    #'Bagging Classifier', 'Ada Boost Classifier', 'Gradient Boosting Classifier', 'Ensemble: Stacking Classifier']\n",
        "    #plt.figure(figsize=(100, 100)\n",
        "    n_array = []\n",
        "    lr, lda, knn, dst, rf, gnb, svm, bc, abc, gbc, ensemble = [], [], [], [], [], [], [], [], [], [], []\n",
        "    for i in range(2, 12):\n",
        "        n_array.append(i)\n",
        "        embedding = Isomap(n_components=i)\n",
        "        data2 = embedding.fit_transform(data[:len(data)])\n",
        "        #print('Result for PCA : n_components=', i)\n",
        "        score = summary_report(data2)\n",
        "        lr.append(score['Accuracy'][0])\n",
        "        lda.append(score['Accuracy'][1])\n",
        "        knn.append(score['Accuracy'][2])\n",
        "        dst.append(score['Accuracy'][3])\n",
        "        rf.append(score['Accuracy'][4])\n",
        "        gnb.append(score['Accuracy'][5])\n",
        "        svm.append(score['Accuracy'][6])\n",
        "        bc.append(score['Accuracy'][7])\n",
        "        abc.append(score['Accuracy'][8])\n",
        "        gbc.append(score['Accuracy'][9])\n",
        "        ensemble.append(score['Accuracy'][10])\n",
        "    return n_array, lr, lda, knn, dst, rf, gnb, svm, bc, abc, gbc, ensemble"
      ],
      "metadata": {
        "id": "8A4An9uxwzso"
      },
      "execution_count": null,
      "outputs": []
    },
    {
      "cell_type": "code",
      "source": [
        "def n_tableISOMAP(data):\n",
        "    final_score = pd.DataFrame()\n",
        "    for i in range(2, len(data.columns)):\n",
        "        name = 'n_comp =' + str(i)\n",
        "        embedding = Isomap(n_components=i)\n",
        "        data2 = embedding.fit_transform(data[:len(data)])\n",
        "        score = summary_report(data2)\n",
        "        final_score[name] = score['Accuracy']\n",
        "    return final_score"
      ],
      "metadata": {
        "id": "lFqAmcLCwzxp"
      },
      "execution_count": null,
      "outputs": []
    },
    {
      "cell_type": "code",
      "source": [
        "n_tableISOMAP(data1)"
      ],
      "metadata": {
        "id": "v4CKKbVBdt9s"
      },
      "execution_count": null,
      "outputs": []
    },
    {
      "cell_type": "markdown",
      "source": [
        "### **n_component Plots**"
      ],
      "metadata": {
        "id": "uRRBNzxsdt9s"
      }
    },
    {
      "cell_type": "code",
      "source": [
        "n_array, lr, lda, knn, dst, rf, gnb, svm, bc, abc, gbc, ensemble = n_isomap(data1)"
      ],
      "metadata": {
        "id": "cDJ7pMUAdt9s"
      },
      "execution_count": null,
      "outputs": []
    },
    {
      "cell_type": "code",
      "source": [
        "plt.title('Accracy vs n_components')\n",
        "plt.plot(n_array, lr, linestyle='--', linewidth=2, label='Logistic Regression')\n",
        "plt.plot(n_array, rf, linestyle='--', linewidth=2, label='Random Forest')\n",
        "plt.plot(n_array, gnb, linestyle='--', linewidth=2, label='Gaussian Naive Bayes')\n",
        "plt.plot(n_array, svm, linestyle='--', linewidth=2, label='SVM')\n",
        "plt.plot(n_array, abc, linestyle='--', linewidth=2, label='AdaBoost Classifier')\n",
        "plt.plot(n_array, gbc, linestyle='--', linewidth=2, label='Gradient Boosting Classifier')\n",
        "plt.plot(n_array, ensemble, linestyle='--', linewidth=2, label='Logistic Regression')\n",
        "plt.legend()\n",
        "plt.show()"
      ],
      "metadata": {
        "id": "wUFtNWPedt9t"
      },
      "execution_count": null,
      "outputs": []
    },
    {
      "cell_type": "code",
      "source": [
        "plt.title('Accuracy vs n_components')\n",
        "plt.plot(n_array, lr, linestyle='--', linewidth=2, color = 'red', label='Logistic Regression')\n",
        "plt.legend()\n",
        "plt.show()"
      ],
      "metadata": {
        "id": "E_XG61WVdt9t"
      },
      "execution_count": null,
      "outputs": []
    },
    {
      "cell_type": "code",
      "source": [
        "plt.title('Accuracy vs n_components')\n",
        "plt.plot(n_array, rf, linestyle='--', linewidth=2, color = 'red', label='Random Forest')\n",
        "plt.legend()\n",
        "plt.show()"
      ],
      "metadata": {
        "id": "WgEcu8b7dt9t"
      },
      "execution_count": null,
      "outputs": []
    },
    {
      "cell_type": "code",
      "source": [
        "plt.title('Accuracy vs n_components')\n",
        "plt.plot(n_array, gnb, linestyle='--', linewidth=2, color = 'red', label='Gaussian Naive Bayes')\n",
        "plt.legend()\n",
        "plt.show()"
      ],
      "metadata": {
        "id": "XG-HB2lCdt9t"
      },
      "execution_count": null,
      "outputs": []
    },
    {
      "cell_type": "code",
      "source": [
        "plt.title('Accuracy vs n_components')\n",
        "plt.plot(n_array, svm, linestyle='--', linewidth=2, color = 'red', label='SVM')\n",
        "plt.legend()\n",
        "plt.show()"
      ],
      "metadata": {
        "id": "lNt_ynF-dt9t"
      },
      "execution_count": null,
      "outputs": []
    },
    {
      "cell_type": "code",
      "source": [
        "plt.title('Accuracy vs n_components')\n",
        "plt.plot(n_array, abc, linestyle='--', linewidth=2, color = 'red', label='Ada Boost')\n",
        "plt.legend()\n",
        "plt.show()"
      ],
      "metadata": {
        "id": "GbLWY4MSdt9t"
      },
      "execution_count": null,
      "outputs": []
    },
    {
      "cell_type": "code",
      "source": [
        "plt.title('Accuracy vs n_components')\n",
        "plt.plot(n_array, gbc, linestyle='--', linewidth=2, color = 'red', label='Gradient Boosting')\n",
        "plt.legend()\n",
        "plt.show()"
      ],
      "metadata": {
        "id": "khzyqAImdt9t"
      },
      "execution_count": null,
      "outputs": []
    },
    {
      "cell_type": "code",
      "source": [
        "plt.title('Accuracy vs n_components')\n",
        "plt.plot(n_array, ensemble, linestyle='--', linewidth=2, color = 'red', label='Ensemble')\n",
        "plt.legend()\n",
        "plt.show()"
      ],
      "metadata": {
        "id": "vNXN0sm1dt9t"
      },
      "execution_count": null,
      "outputs": []
    },
    {
      "cell_type": "markdown",
      "source": [
        "### **Conclusions for ISOMAP**"
      ],
      "metadata": {
        "id": "NLVpATpgdt9t"
      }
    },
    {
      "cell_type": "code",
      "source": [
        "# best n_component = 11\n",
        "#\n",
        "embedding = Isomap(n_components=11)\n",
        "data1i = embedding.fit_transform(data1[:len(data1)])"
      ],
      "metadata": {
        "id": "E2mvtDgOdt9t"
      },
      "execution_count": null,
      "outputs": []
    },
    {
      "cell_type": "code",
      "source": [
        "model_plot(data1i, 'Accuracy')"
      ],
      "metadata": {
        "id": "Ey9TxaZYdt9u"
      },
      "execution_count": null,
      "outputs": []
    },
    {
      "cell_type": "code",
      "source": [
        "model_plot(data1i, 'F1 Score')"
      ],
      "metadata": {
        "id": "EqqDkZQ5dt9u"
      },
      "execution_count": null,
      "outputs": []
    },
    {
      "cell_type": "markdown",
      "source": [
        "## **Feature Reduction Technique Comparison**"
      ],
      "metadata": {
        "id": "uuUbPn1zdt9u"
      }
    },
    {
      "cell_type": "code",
      "source": [
        "def feature_plot(data, var):\n",
        "    import umap.umap_ as umap\n",
        "\n",
        "    sc = StandardScaler()\n",
        "    data1 = sc.fit_transform(data)\n",
        "    pca = PCA(n_components = 2)\n",
        "    data1 = pca.fit_transform(data1)\n",
        "\n",
        "    reducer = umap.UMAP()\n",
        "    data2 = reducer.fit_transform(data)\n",
        "\n",
        "    embedding = Isomap(n_components=11)\n",
        "    data3 = embedding.fit_transform(data[:len(data)])\n",
        "\n",
        "    tabular_score = pd.DataFrame()\n",
        "\n",
        "    score = summary_report(data)\n",
        "    nofr = score[var]\n",
        "    tabular_score['Without FR'] = nofr\n",
        "    score1 = summary_report(data1)\n",
        "    pca = score1[var]\n",
        "    tabular_score['PCA'] = pca\n",
        "    score2 = summary_report(data2)\n",
        "    umap = score2[var]\n",
        "    tabular_score['UMAP'] = umap\n",
        "    score3 = summary_report(data3)\n",
        "    isomap = score3[var]\n",
        "    tabular_score['ISOMAP'] = isomap\n",
        "    model_names = ['Logistic Regression', 'LDA', 'K-Neighbors Classifier', 'Decision Tree Classifier', 'Random Forest Classifier', 'Gaussian Naive Bayes', 'SVM',\n",
        "                 'Bagging Classifier', 'Ada Boost Classifier', 'Gradient Boosting Classifier', 'Ensemble: Stacking Classifier']\n",
        "    plt.plot(model_names, nofr, linestyle='--', linewidth=2, color='orange', label='Without FR Techniques')\n",
        "    plt.plot(model_names, pca, linestyle='--', linewidth=2, color='red', label='PCA')\n",
        "    plt.plot(model_names, umap, linestyle='--', linewidth=2, color='blue', label='UMAP')\n",
        "    plt.plot(model_names, isomap, linestyle='--', linewidth=2, color='green', label='ISOMAP')\n",
        "    plt.xticks(rotation=90)\n",
        "    plt.legend()\n",
        "    return plt, tabular_score"
      ],
      "metadata": {
        "id": "ZIFN2LBiw_pU"
      },
      "execution_count": null,
      "outputs": []
    },
    {
      "cell_type": "code",
      "source": [
        "plt1, tabular_score1 = feature_plot(data1, 'Accuracy')"
      ],
      "metadata": {
        "id": "wlm5_goUdt9u"
      },
      "execution_count": null,
      "outputs": []
    },
    {
      "cell_type": "code",
      "source": [
        "tabular_score1"
      ],
      "metadata": {
        "id": "2KJB8drZdt9u"
      },
      "execution_count": null,
      "outputs": []
    },
    {
      "cell_type": "code",
      "source": [
        "plt2, tabular_score2 = feature_plot(data1, 'Training-Time')"
      ],
      "metadata": {
        "id": "G2MqVMVodt9u"
      },
      "execution_count": null,
      "outputs": []
    },
    {
      "cell_type": "code",
      "source": [
        "tabular_score2"
      ],
      "metadata": {
        "id": "4u_QP-CAdt9u"
      },
      "execution_count": null,
      "outputs": []
    },
    {
      "cell_type": "code",
      "source": [
        "plt3, tabular_score3 = feature_plot(data1, 'F1 Score')"
      ],
      "metadata": {
        "id": "9u6goxN0dt9u"
      },
      "execution_count": null,
      "outputs": []
    },
    {
      "cell_type": "code",
      "source": [
        "tabular_score3"
      ],
      "metadata": {
        "id": "jXGd-Ssgdt9u"
      },
      "execution_count": null,
      "outputs": []
    },
    {
      "cell_type": "markdown",
      "source": [
        "# **Final Results**"
      ],
      "metadata": {
        "id": "LhcxR2RRkUdT"
      }
    },
    {
      "cell_type": "markdown",
      "source": [
        "## **Coswara**"
      ],
      "metadata": {
        "id": "RgidXs4402OM"
      }
    },
    {
      "cell_type": "code",
      "source": [
        "data1, labels1 = find_label(total_data1)"
      ],
      "metadata": {
        "id": "TAHNM4Y0DjZY"
      },
      "execution_count": null,
      "outputs": []
    },
    {
      "cell_type": "code",
      "source": [
        "def find_scores(data, model):\n",
        "  scores = cross_validate(model, data, labels1, cv=3, scoring=('accuracy', 'precision', 'recall', 'f1', 'roc_auc'), return_train_score=False)\n",
        "  scores['test_accuracy'] = scores['test_accuracy'].mean()\n",
        "  scores['fit_time'] = scores['fit_time'].mean()\n",
        "  scores['test_precision'] = scores['test_precision'].mean()\n",
        "  scores['test_recall'] = scores['test_recall'].mean()\n",
        "  scores['test_f1'] = scores['test_f1'].mean()\n",
        "  scores['test_roc_auc'] = scores['test_roc_auc'].mean()\n",
        "  scores['score_time'] = scores['score_time'].mean()\n",
        "  scores.pop('score_time')\n",
        "  scores.pop('fit_time')\n",
        "  df = pd.DataFrame.from_dict([scores])\n",
        "  return df"
      ],
      "metadata": {
        "id": "_x8UM-YFBFu8"
      },
      "execution_count": null,
      "outputs": []
    },
    {
      "cell_type": "code",
      "source": [
        "def summary_report1(data):\n",
        "  #data, X_train, X_val, Y_train, Y_val = split_data(data)\n",
        "  #results = {}\n",
        "  model_names = ['Logistic Regression', 'K-Nearest Neighbor', 'Random Forest Classifier', 'Gaussian Naive Bayes', 'SVM',\n",
        "                 'Ada Boost Classifier', 'Gradient Boosting Classifier', 'Ensemble: Stacking Classifier']\n",
        "                 #, 'Ensemble: VotingClassifier']\n",
        "  score_param = ['Accuracy', 'F1 Score', 'Precision', 'Recall', 'AUC-ROC']\n",
        "\n",
        "  scores = pd.DataFrame()\n",
        "  model1 = LogisticRegression()\n",
        "  scores = scores.append(find_scores(data, model1), ignore_index=True)\n",
        "  #model2 = LinearDiscriminantAnalysis()\n",
        "  #scores = scores.append(find_scores(data, model2), ignore_index=True)\n",
        "  model3 = KNeighborsClassifier()\n",
        "  scores = scores.append(find_scores(data, model3), ignore_index=True)\n",
        "  #model4 = DecisionTreeClassifier()\n",
        "  #scores = scores.append(find_scores(data, model4), ignore_index=True)\n",
        "  model5 = RandomForestClassifier()\n",
        "  scores = scores.append(find_scores(data, model5), ignore_index=True)\n",
        "  model6 = GaussianNB()\n",
        "  scores = scores.append(find_scores(data, model6), ignore_index=True)\n",
        "  model7 = SVC()\n",
        "  scores = scores.append(find_scores(data, model7), ignore_index=True)\n",
        "  #model8 = BaggingClassifier()\n",
        "  #scores = scores.append(find_scores(data, model8), ignore_index=True)\n",
        "  model9 = AdaBoostClassifier()\n",
        "  scores = scores.append(find_scores(data, model9), ignore_index=True)\n",
        "  model10 = GradientBoostingClassifier()\n",
        "  scores = scores.append(find_scores(data, model10), ignore_index=True)\n",
        "  estimators = [('LR', model1), ('RF', model5),\n",
        "                ('GNB', model6), ('SVM', model7),  ('AB', model9), ('GB', model10)]\n",
        "  model11 = StackingClassifier(estimators = estimators)\n",
        "  scores = scores.append(find_scores(data, model11), ignore_index=True)\n",
        "  scores.index = model_names\n",
        "  scores.columns = score_param\n",
        "  #scores['Training-Time'] = scores['Training-Time'].round(decimals = 4)\n",
        "  scores['Accuracy'] = scores['Accuracy']*100\n",
        "  scores['Accuracy'] = scores['Accuracy'].round(decimals = 2)\n",
        "  scores['F1 Score'] = scores['F1 Score']*100\n",
        "  scores['F1 Score'] = scores['F1 Score'].round(decimals = 2)\n",
        "  scores['Precision'] = scores['Precision']*100\n",
        "  scores['Precision'] = scores['Precision'].round(decimals = 2)\n",
        "  scores['Recall'] = scores['Recall']*100\n",
        "  scores['Recall'] = scores['Recall'].round(decimals = 2)\n",
        "  scores['AUC-ROC'] = scores['AUC-ROC']*100\n",
        "  scores['AUC-ROC'] = scores['AUC-ROC'].round(decimals = 2)\n",
        "  pd.set_option('display.float_format','{:.3f}'.format)\n",
        "  return scores"
      ],
      "metadata": {
        "id": "_BABJzxbBFu8"
      },
      "execution_count": null,
      "outputs": []
    },
    {
      "cell_type": "code",
      "source": [
        "summary_report1(data1)"
      ],
      "metadata": {
        "colab": {
          "base_uri": "https://localhost:8080/",
          "height": 300
        },
        "outputId": "6468ac6b-e125-4f97-d6a7-9d230967d791",
        "id": "5K4CNoVPBFu9"
      },
      "execution_count": null,
      "outputs": [
        {
          "output_type": "execute_result",
          "data": {
            "text/plain": [
              "                               Accuracy  F1 Score  Precision  Recall  AUC-ROC\n",
              "Logistic Regression              71.580    74.620     62.970  67.830   79.070\n",
              "K-Nearest Neighbor               69.880    72.500     60.150  65.500   74.870\n",
              "Random Forest Classifier         70.850    70.530     68.880  69.270   74.560\n",
              "Gaussian Naive Bayes             70.970    74.190     63.220  67.530   80.220\n",
              "SVM                              70.970    74.010     63.220  67.440   78.960\n",
              "Ada Boost Classifier             70.850    74.080     60.660  66.450   78.070\n",
              "Gradient Boosting Classifier     72.070    72.130     69.650  70.470   77.630\n",
              "Ensemble: Stacking Classifier    71.700    72.800     67.330  69.350   78.630"
            ],
            "text/html": [
              "\n",
              "  <div id=\"df-685ebabb-ea13-4902-b9d3-2302905a254a\">\n",
              "    <div class=\"colab-df-container\">\n",
              "      <div>\n",
              "<style scoped>\n",
              "    .dataframe tbody tr th:only-of-type {\n",
              "        vertical-align: middle;\n",
              "    }\n",
              "\n",
              "    .dataframe tbody tr th {\n",
              "        vertical-align: top;\n",
              "    }\n",
              "\n",
              "    .dataframe thead th {\n",
              "        text-align: right;\n",
              "    }\n",
              "</style>\n",
              "<table border=\"1\" class=\"dataframe\">\n",
              "  <thead>\n",
              "    <tr style=\"text-align: right;\">\n",
              "      <th></th>\n",
              "      <th>Accuracy</th>\n",
              "      <th>F1 Score</th>\n",
              "      <th>Precision</th>\n",
              "      <th>Recall</th>\n",
              "      <th>AUC-ROC</th>\n",
              "    </tr>\n",
              "  </thead>\n",
              "  <tbody>\n",
              "    <tr>\n",
              "      <th>Logistic Regression</th>\n",
              "      <td>71.580</td>\n",
              "      <td>74.620</td>\n",
              "      <td>62.970</td>\n",
              "      <td>67.830</td>\n",
              "      <td>79.070</td>\n",
              "    </tr>\n",
              "    <tr>\n",
              "      <th>K-Nearest Neighbor</th>\n",
              "      <td>69.880</td>\n",
              "      <td>72.500</td>\n",
              "      <td>60.150</td>\n",
              "      <td>65.500</td>\n",
              "      <td>74.870</td>\n",
              "    </tr>\n",
              "    <tr>\n",
              "      <th>Random Forest Classifier</th>\n",
              "      <td>70.850</td>\n",
              "      <td>70.530</td>\n",
              "      <td>68.880</td>\n",
              "      <td>69.270</td>\n",
              "      <td>74.560</td>\n",
              "    </tr>\n",
              "    <tr>\n",
              "      <th>Gaussian Naive Bayes</th>\n",
              "      <td>70.970</td>\n",
              "      <td>74.190</td>\n",
              "      <td>63.220</td>\n",
              "      <td>67.530</td>\n",
              "      <td>80.220</td>\n",
              "    </tr>\n",
              "    <tr>\n",
              "      <th>SVM</th>\n",
              "      <td>70.970</td>\n",
              "      <td>74.010</td>\n",
              "      <td>63.220</td>\n",
              "      <td>67.440</td>\n",
              "      <td>78.960</td>\n",
              "    </tr>\n",
              "    <tr>\n",
              "      <th>Ada Boost Classifier</th>\n",
              "      <td>70.850</td>\n",
              "      <td>74.080</td>\n",
              "      <td>60.660</td>\n",
              "      <td>66.450</td>\n",
              "      <td>78.070</td>\n",
              "    </tr>\n",
              "    <tr>\n",
              "      <th>Gradient Boosting Classifier</th>\n",
              "      <td>72.070</td>\n",
              "      <td>72.130</td>\n",
              "      <td>69.650</td>\n",
              "      <td>70.470</td>\n",
              "      <td>77.630</td>\n",
              "    </tr>\n",
              "    <tr>\n",
              "      <th>Ensemble: Stacking Classifier</th>\n",
              "      <td>71.700</td>\n",
              "      <td>72.800</td>\n",
              "      <td>67.330</td>\n",
              "      <td>69.350</td>\n",
              "      <td>78.630</td>\n",
              "    </tr>\n",
              "  </tbody>\n",
              "</table>\n",
              "</div>\n",
              "      <button class=\"colab-df-convert\" onclick=\"convertToInteractive('df-685ebabb-ea13-4902-b9d3-2302905a254a')\"\n",
              "              title=\"Convert this dataframe to an interactive table.\"\n",
              "              style=\"display:none;\">\n",
              "        \n",
              "  <svg xmlns=\"http://www.w3.org/2000/svg\" height=\"24px\"viewBox=\"0 0 24 24\"\n",
              "       width=\"24px\">\n",
              "    <path d=\"M0 0h24v24H0V0z\" fill=\"none\"/>\n",
              "    <path d=\"M18.56 5.44l.94 2.06.94-2.06 2.06-.94-2.06-.94-.94-2.06-.94 2.06-2.06.94zm-11 1L8.5 8.5l.94-2.06 2.06-.94-2.06-.94L8.5 2.5l-.94 2.06-2.06.94zm10 10l.94 2.06.94-2.06 2.06-.94-2.06-.94-.94-2.06-.94 2.06-2.06.94z\"/><path d=\"M17.41 7.96l-1.37-1.37c-.4-.4-.92-.59-1.43-.59-.52 0-1.04.2-1.43.59L10.3 9.45l-7.72 7.72c-.78.78-.78 2.05 0 2.83L4 21.41c.39.39.9.59 1.41.59.51 0 1.02-.2 1.41-.59l7.78-7.78 2.81-2.81c.8-.78.8-2.07 0-2.86zM5.41 20L4 18.59l7.72-7.72 1.47 1.35L5.41 20z\"/>\n",
              "  </svg>\n",
              "      </button>\n",
              "      \n",
              "  <style>\n",
              "    .colab-df-container {\n",
              "      display:flex;\n",
              "      flex-wrap:wrap;\n",
              "      gap: 12px;\n",
              "    }\n",
              "\n",
              "    .colab-df-convert {\n",
              "      background-color: #E8F0FE;\n",
              "      border: none;\n",
              "      border-radius: 50%;\n",
              "      cursor: pointer;\n",
              "      display: none;\n",
              "      fill: #1967D2;\n",
              "      height: 32px;\n",
              "      padding: 0 0 0 0;\n",
              "      width: 32px;\n",
              "    }\n",
              "\n",
              "    .colab-df-convert:hover {\n",
              "      background-color: #E2EBFA;\n",
              "      box-shadow: 0px 1px 2px rgba(60, 64, 67, 0.3), 0px 1px 3px 1px rgba(60, 64, 67, 0.15);\n",
              "      fill: #174EA6;\n",
              "    }\n",
              "\n",
              "    [theme=dark] .colab-df-convert {\n",
              "      background-color: #3B4455;\n",
              "      fill: #D2E3FC;\n",
              "    }\n",
              "\n",
              "    [theme=dark] .colab-df-convert:hover {\n",
              "      background-color: #434B5C;\n",
              "      box-shadow: 0px 1px 3px 1px rgba(0, 0, 0, 0.15);\n",
              "      filter: drop-shadow(0px 1px 2px rgba(0, 0, 0, 0.3));\n",
              "      fill: #FFFFFF;\n",
              "    }\n",
              "  </style>\n",
              "\n",
              "      <script>\n",
              "        const buttonEl =\n",
              "          document.querySelector('#df-685ebabb-ea13-4902-b9d3-2302905a254a button.colab-df-convert');\n",
              "        buttonEl.style.display =\n",
              "          google.colab.kernel.accessAllowed ? 'block' : 'none';\n",
              "\n",
              "        async function convertToInteractive(key) {\n",
              "          const element = document.querySelector('#df-685ebabb-ea13-4902-b9d3-2302905a254a');\n",
              "          const dataTable =\n",
              "            await google.colab.kernel.invokeFunction('convertToInteractive',\n",
              "                                                     [key], {});\n",
              "          if (!dataTable) return;\n",
              "\n",
              "          const docLinkHtml = 'Like what you see? Visit the ' +\n",
              "            '<a target=\"_blank\" href=https://colab.research.google.com/notebooks/data_table.ipynb>data table notebook</a>'\n",
              "            + ' to learn more about interactive tables.';\n",
              "          element.innerHTML = '';\n",
              "          dataTable['output_type'] = 'display_data';\n",
              "          await google.colab.output.renderOutput(dataTable, element);\n",
              "          const docLink = document.createElement('div');\n",
              "          docLink.innerHTML = docLinkHtml;\n",
              "          element.appendChild(docLink);\n",
              "        }\n",
              "      </script>\n",
              "    </div>\n",
              "  </div>\n",
              "  "
            ]
          },
          "metadata": {},
          "execution_count": 20
        }
      ]
    },
    {
      "cell_type": "code",
      "source": [
        "# Give the data as input and parameter (Accuracy/F1 Score, etc.) to obtain bar plot for each of the 11 models\n",
        "\n",
        "def model_bar(data, var):\n",
        "  model_names = ['Logistic Regression', 'K-Nearest Neighbor', 'Random Forest Classifier', 'Gaussian Naive Bayes', 'SVM',\n",
        "                 'Ada Boost Classifier', 'Gradient Boosting Classifier', 'Ensemble: Stacking Classifier']\n",
        "  score = summary_report1(data)\n",
        "  acc = score[var]\n",
        "  plt.bar(model_names, acc)\n",
        "  plt.xticks(rotation=90)\n",
        "  plt.ylim([50, 80])\n",
        "  plt.show()"
      ],
      "metadata": {
        "id": "NyniiCdxBFu9"
      },
      "execution_count": null,
      "outputs": []
    },
    {
      "cell_type": "code",
      "source": [
        "model_bar(data1, 'Accuracy')"
      ],
      "metadata": {
        "colab": {
          "base_uri": "https://localhost:8080/",
          "height": 407
        },
        "outputId": "8ceb21ef-6a77-4704-de69-15e46e5dfa8f",
        "id": "Bf6_ZX8CBFu9"
      },
      "execution_count": null,
      "outputs": [
        {
          "output_type": "display_data",
          "data": {
            "text/plain": [
              "<Figure size 432x288 with 1 Axes>"
            ],
            "image/png": "[encoded data removed]"
          },
          "metadata": {
            "needs_background": "light"
          }
        }
      ]
    },
    {
      "cell_type": "markdown",
      "source": [
        "## **Kaggle**"
      ],
      "metadata": {
        "id": "Xv6BnGr307Gt"
      }
    },
    {
      "cell_type": "code",
      "source": [
        "data2, labels2 = find_label(total_data2)"
      ],
      "metadata": {
        "id": "0z9xigX7BywO"
      },
      "execution_count": null,
      "outputs": []
    },
    {
      "cell_type": "code",
      "source": [
        "data2, X_train, X_val, Y_train, Y_val = split_data(data2, labels2)"
      ],
      "metadata": {
        "id": "NpDEVkqm41Zp"
      },
      "execution_count": null,
      "outputs": []
    },
    {
      "cell_type": "code",
      "source": [
        "model5 = RandomForestClassifier()\n",
        "print(\"Model 5 : Random Forest Classifier\", \"\\n\")\n",
        "model5.fit(X_train, Y_train)\n",
        "prediction = model5.predict(X_val)\n",
        "print(\"Acurracy of the model :\", accuracy_score(Y_val, prediction), \"\\n\")\n",
        "print(\"Confusion matrix :\",\"\\n\", confusion_matrix(Y_val, prediction), \"\\n\")\n",
        "print(classification_report(Y_val, prediction), \"\\n\")"
      ],
      "metadata": {
        "id": "Q1XEdm5y4ou5"
      },
      "execution_count": null,
      "outputs": []
    },
    {
      "cell_type": "code",
      "source": [
        "data2.columns"
      ],
      "metadata": {
        "id": "GhdWQpmW4pUY"
      },
      "execution_count": null,
      "outputs": []
    },
    {
      "cell_type": "code",
      "source": [
        "importance = model5.feature_importances_\n",
        "import matplotlib.pyplot as plt\n",
        "plt.title('Feature Importances')\n",
        "plt.barh(['Breathing Problem', 'Fever', 'Dry Cough', 'Sore throat',\n",
        "       'Running Nose', 'Asthma', 'Chronic Lung Disease', 'Headache',\n",
        "       'Heart Disease', 'Diabetes', 'Hyper Tension', 'Fatigue ',\n",
        "       'Abroad travel', 'Contact with COVID Patient'], importance, color='b', align='center')\n",
        "#plt.barh(['age_decade', 'ftg', 'fever', 'gender_label', 'loss_of_smell', 'cough'],\n",
        "#        importance, color='b', align='center')\n",
        "plt.tight_layout()\n",
        "image_format = 'svg' # e.g .png, .svg, etc.\n",
        "image_name = 'feature_importance.svg'\n",
        "plt.savefig(image_name, format=image_format, dpi=1200)\n",
        "plt.show()"
      ],
      "metadata": {
        "colab": {
          "base_uri": "https://localhost:8080/",
          "height": 297
        },
        "id": "YhnKiI4D5uwh",
        "outputId": "42ed655f-7253-4771-b015-57c6cc425f1f"
      },
      "execution_count": null,
      "outputs": [
        {
          "output_type": "display_data",
          "data": {
            "text/plain": [
              "<Figure size 432x288 with 1 Axes>"
            ],
            "image/png": "[encoded data removed]"
          },
          "metadata": {
            "needs_background": "light"
          }
        }
      ]
    },
    {
      "cell_type": "code",
      "source": [
        "def find_scores(data, model):\n",
        "  scores = cross_validate(model, data, labels2, cv=3, scoring=('accuracy', 'precision', 'recall', 'f1', 'roc_auc'), return_train_score=False)\n",
        "  scores['test_accuracy'] = scores['test_accuracy'].mean()\n",
        "  scores['fit_time'] = scores['fit_time'].mean()\n",
        "  scores['test_precision'] = scores['test_precision'].mean()\n",
        "  scores['test_recall'] = scores['test_recall'].mean()\n",
        "  scores['test_f1'] = scores['test_f1'].mean()\n",
        "  scores['test_roc_auc'] = scores['test_roc_auc'].mean()\n",
        "  scores['score_time'] = scores['score_time'].mean()\n",
        "  scores.pop('score_time')\n",
        "  scores.pop('fit_time')\n",
        "  df = pd.DataFrame.from_dict([scores])\n",
        "  return df"
      ],
      "metadata": {
        "id": "m1FKNIkQCUSu"
      },
      "execution_count": null,
      "outputs": []
    },
    {
      "cell_type": "code",
      "source": [
        "def summary_report2(data):\n",
        "  #data, X_train, X_val, Y_train, Y_val = split_data(data)\n",
        "  #results = {}\n",
        "  model_names = ['Logistic Regression', 'K-Nearest Neighbors', 'Random Forest Classifier', 'Gaussian Naive Bayes', 'SVM',\n",
        "                 'Ada Boost Classifier', 'Gradient Boosting Classifier', 'Ensemble: Stacking Classifier']\n",
        "                 #, 'Ensemble: VotingClassifier']\n",
        "  score_param = ['Accuracy', 'F1 Score', 'Precision', 'Recall', 'AUC-ROC']\n",
        "\n",
        "  scores = pd.DataFrame()\n",
        "  model1 = LogisticRegression()\n",
        "  scores = scores.append(find_scores(data, model1), ignore_index=True)\n",
        "  #model2 = LinearDiscriminantAnalysis()\n",
        "  #scores = scores.append(find_scores(data, model2), ignore_index=True)\n",
        "  model3 = KNeighborsClassifier()\n",
        "  scores = scores.append(find_scores(data, model3), ignore_index=True)\n",
        "  #model4 = DecisionTreeClassifier()\n",
        "  #scores = scores.append(find_scores(data, model4), ignore_index=True)\n",
        "  model5 = RandomForestClassifier()\n",
        "  scores = scores.append(find_scores(data, model5), ignore_index=True)\n",
        "  model6 = GaussianNB()\n",
        "  scores = scores.append(find_scores(data, model6), ignore_index=True)\n",
        "  model7 = SVC()\n",
        "  scores = scores.append(find_scores(data, model7), ignore_index=True)\n",
        "  #model8 = BaggingClassifier()\n",
        "  #scores = scores.append(find_scores(data, model8), ignore_index=True)\n",
        "  model9 = AdaBoostClassifier()\n",
        "  scores = scores.append(find_scores(data, model9), ignore_index=True)\n",
        "  model10 = GradientBoostingClassifier()\n",
        "  scores = scores.append(find_scores(data, model10), ignore_index=True)\n",
        "  estimators = [('LR', model1), ('KNN', model3), ('RF', model5),\n",
        "                ('SVM', model7),  ('AB', model9), ('GB', model10)]\n",
        "  model11 = StackingClassifier(estimators = estimators)\n",
        "  scores = scores.append(find_scores(data, model11), ignore_index=True)\n",
        "  scores.index = model_names\n",
        "  scores.columns = score_param\n",
        "  #scores['Training-Time'] = scores['Training-Time'].round(decimals = 4)\n",
        "  scores['Accuracy'] = scores['Accuracy']*100\n",
        "  scores['Accuracy'] = scores['Accuracy'].round(decimals = 2)\n",
        "  scores['F1 Score'] = scores['F1 Score']*100\n",
        "  scores['F1 Score'] = scores['F1 Score'].round(decimals = 2)\n",
        "  scores['Precision'] = scores['Precision']*100\n",
        "  scores['Precision'] = scores['Precision'].round(decimals = 2)\n",
        "  scores['Recall'] = scores['Recall']*100\n",
        "  scores['Recall'] = scores['Recall'].round(decimals = 2)\n",
        "  scores['AUC-ROC'] = scores['AUC-ROC']*100\n",
        "  scores['AUC-ROC'] = scores['AUC-ROC'].round(decimals = 2)\n",
        "  pd.set_option('display.float_format','{:.3f}'.format)\n",
        "  return scores"
      ],
      "metadata": {
        "id": "QMjf68ULBR1J"
      },
      "execution_count": null,
      "outputs": []
    },
    {
      "cell_type": "code",
      "source": [
        "summary_report2(data2)"
      ],
      "metadata": {
        "colab": {
          "base_uri": "https://localhost:8080/",
          "height": 300
        },
        "id": "tRKmg_xPB38s",
        "outputId": "b2a6d0c9-3f6a-4ef7-b53f-63d22e27330b"
      },
      "execution_count": null,
      "outputs": [
        {
          "output_type": "execute_result",
          "data": {
            "text/plain": [
              "                               Accuracy  F1 Score  Precision  Recall  AUC-ROC\n",
              "Logistic Regression              90.080    96.020     91.440  93.580   94.050\n",
              "K-Nearest Neighbors              91.040    93.320     95.850  94.480   85.010\n",
              "Random Forest Classifier         92.930    94.970     96.370  95.650   93.970\n",
              "Gaussian Naive Bayes             65.400    99.430     57.470  72.520   94.810\n",
              "SVM                              92.360    94.970     95.620  95.290   94.060\n",
              "Ada Boost Classifier             88.630    94.310     91.330  92.790   93.920\n",
              "Gradient Boosting Classifier     92.640    95.400     95.460  95.420   94.850\n",
              "Ensemble: Stacking Classifier    90.910    93.900     94.840  94.330   93.390"
            ],
            "text/html": [
              "\n",
              "  <div id=\"df-b5946ffb-1de2-4159-a9a4-246b89d8dd84\">\n",
              "    <div class=\"colab-df-container\">\n",
              "      <div>\n",
              "<style scoped>\n",
              "    .dataframe tbody tr th:only-of-type {\n",
              "        vertical-align: middle;\n",
              "    }\n",
              "\n",
              "    .dataframe tbody tr th {\n",
              "        vertical-align: top;\n",
              "    }\n",
              "\n",
              "    .dataframe thead th {\n",
              "        text-align: right;\n",
              "    }\n",
              "</style>\n",
              "<table border=\"1\" class=\"dataframe\">\n",
              "  <thead>\n",
              "    <tr style=\"text-align: right;\">\n",
              "      <th></th>\n",
              "      <th>Accuracy</th>\n",
              "      <th>F1 Score</th>\n",
              "      <th>Precision</th>\n",
              "      <th>Recall</th>\n",
              "      <th>AUC-ROC</th>\n",
              "    </tr>\n",
              "  </thead>\n",
              "  <tbody>\n",
              "    <tr>\n",
              "      <th>Logistic Regression</th>\n",
              "      <td>90.080</td>\n",
              "      <td>96.020</td>\n",
              "      <td>91.440</td>\n",
              "      <td>93.580</td>\n",
              "      <td>94.050</td>\n",
              "    </tr>\n",
              "    <tr>\n",
              "      <th>K-Nearest Neighbors</th>\n",
              "      <td>91.040</td>\n",
              "      <td>93.320</td>\n",
              "      <td>95.850</td>\n",
              "      <td>94.480</td>\n",
              "      <td>85.010</td>\n",
              "    </tr>\n",
              "    <tr>\n",
              "      <th>Random Forest Classifier</th>\n",
              "      <td>92.930</td>\n",
              "      <td>94.970</td>\n",
              "      <td>96.370</td>\n",
              "      <td>95.650</td>\n",
              "      <td>93.970</td>\n",
              "    </tr>\n",
              "    <tr>\n",
              "      <th>Gaussian Naive Bayes</th>\n",
              "      <td>65.400</td>\n",
              "      <td>99.430</td>\n",
              "      <td>57.470</td>\n",
              "      <td>72.520</td>\n",
              "      <td>94.810</td>\n",
              "    </tr>\n",
              "    <tr>\n",
              "      <th>SVM</th>\n",
              "      <td>92.360</td>\n",
              "      <td>94.970</td>\n",
              "      <td>95.620</td>\n",
              "      <td>95.290</td>\n",
              "      <td>94.060</td>\n",
              "    </tr>\n",
              "    <tr>\n",
              "      <th>Ada Boost Classifier</th>\n",
              "      <td>88.630</td>\n",
              "      <td>94.310</td>\n",
              "      <td>91.330</td>\n",
              "      <td>92.790</td>\n",
              "      <td>93.920</td>\n",
              "    </tr>\n",
              "    <tr>\n",
              "      <th>Gradient Boosting Classifier</th>\n",
              "      <td>92.640</td>\n",
              "      <td>95.400</td>\n",
              "      <td>95.460</td>\n",
              "      <td>95.420</td>\n",
              "      <td>94.850</td>\n",
              "    </tr>\n",
              "    <tr>\n",
              "      <th>Ensemble: Stacking Classifier</th>\n",
              "      <td>90.910</td>\n",
              "      <td>93.900</td>\n",
              "      <td>94.840</td>\n",
              "      <td>94.330</td>\n",
              "      <td>93.390</td>\n",
              "    </tr>\n",
              "  </tbody>\n",
              "</table>\n",
              "</div>\n",
              "      <button class=\"colab-df-convert\" onclick=\"convertToInteractive('df-b5946ffb-1de2-4159-a9a4-246b89d8dd84')\"\n",
              "              title=\"Convert this dataframe to an interactive table.\"\n",
              "              style=\"display:none;\">\n",
              "        \n",
              "  <svg xmlns=\"http://www.w3.org/2000/svg\" height=\"24px\"viewBox=\"0 0 24 24\"\n",
              "       width=\"24px\">\n",
              "    <path d=\"M0 0h24v24H0V0z\" fill=\"none\"/>\n",
              "    <path d=\"M18.56 5.44l.94 2.06.94-2.06 2.06-.94-2.06-.94-.94-2.06-.94 2.06-2.06.94zm-11 1L8.5 8.5l.94-2.06 2.06-.94-2.06-.94L8.5 2.5l-.94 2.06-2.06.94zm10 10l.94 2.06.94-2.06 2.06-.94-2.06-.94-.94-2.06-.94 2.06-2.06.94z\"/><path d=\"M17.41 7.96l-1.37-1.37c-.4-.4-.92-.59-1.43-.59-.52 0-1.04.2-1.43.59L10.3 9.45l-7.72 7.72c-.78.78-.78 2.05 0 2.83L4 21.41c.39.39.9.59 1.41.59.51 0 1.02-.2 1.41-.59l7.78-7.78 2.81-2.81c.8-.78.8-2.07 0-2.86zM5.41 20L4 18.59l7.72-7.72 1.47 1.35L5.41 20z\"/>\n",
              "  </svg>\n",
              "      </button>\n",
              "      \n",
              "  <style>\n",
              "    .colab-df-container {\n",
              "      display:flex;\n",
              "      flex-wrap:wrap;\n",
              "      gap: 12px;\n",
              "    }\n",
              "\n",
              "    .colab-df-convert {\n",
              "      background-color: #E8F0FE;\n",
              "      border: none;\n",
              "      border-radius: 50%;\n",
              "      cursor: pointer;\n",
              "      display: none;\n",
              "      fill: #1967D2;\n",
              "      height: 32px;\n",
              "      padding: 0 0 0 0;\n",
              "      width: 32px;\n",
              "    }\n",
              "\n",
              "    .colab-df-convert:hover {\n",
              "      background-color: #E2EBFA;\n",
              "      box-shadow: 0px 1px 2px rgba(60, 64, 67, 0.3), 0px 1px 3px 1px rgba(60, 64, 67, 0.15);\n",
              "      fill: #174EA6;\n",
              "    }\n",
              "\n",
              "    [theme=dark] .colab-df-convert {\n",
              "      background-color: #3B4455;\n",
              "      fill: #D2E3FC;\n",
              "    }\n",
              "\n",
              "    [theme=dark] .colab-df-convert:hover {\n",
              "      background-color: #434B5C;\n",
              "      box-shadow: 0px 1px 3px 1px rgba(0, 0, 0, 0.15);\n",
              "      filter: drop-shadow(0px 1px 2px rgba(0, 0, 0, 0.3));\n",
              "      fill: #FFFFFF;\n",
              "    }\n",
              "  </style>\n",
              "\n",
              "      <script>\n",
              "        const buttonEl =\n",
              "          document.querySelector('#df-b5946ffb-1de2-4159-a9a4-246b89d8dd84 button.colab-df-convert');\n",
              "        buttonEl.style.display =\n",
              "          google.colab.kernel.accessAllowed ? 'block' : 'none';\n",
              "\n",
              "        async function convertToInteractive(key) {\n",
              "          const element = document.querySelector('#df-b5946ffb-1de2-4159-a9a4-246b89d8dd84');\n",
              "          const dataTable =\n",
              "            await google.colab.kernel.invokeFunction('convertToInteractive',\n",
              "                                                     [key], {});\n",
              "          if (!dataTable) return;\n",
              "\n",
              "          const docLinkHtml = 'Like what you see? Visit the ' +\n",
              "            '<a target=\"_blank\" href=https://colab.research.google.com/notebooks/data_table.ipynb>data table notebook</a>'\n",
              "            + ' to learn more about interactive tables.';\n",
              "          element.innerHTML = '';\n",
              "          dataTable['output_type'] = 'display_data';\n",
              "          await google.colab.output.renderOutput(dataTable, element);\n",
              "          const docLink = document.createElement('div');\n",
              "          docLink.innerHTML = docLinkHtml;\n",
              "          element.appendChild(docLink);\n",
              "        }\n",
              "      </script>\n",
              "    </div>\n",
              "  </div>\n",
              "  "
            ]
          },
          "metadata": {},
          "execution_count": 63
        }
      ]
    },
    {
      "cell_type": "code",
      "source": [
        "def n_plotPCA(data):\n",
        "    sc = StandardScaler()\n",
        "    data2 = sc.fit_transform(data)\n",
        "    #model_names = ['Logistic Regression', 'LDA', 'K-Neighbors Classifier', 'Decision Tree Classifier', 'Random Forest Classifier', 'Gaussian Naive Bayes', 'SVM',\n",
        "                    #'Bagging Classifier', 'Ada Boost Classifier', 'Gradient Boosting Classifier', 'Ensemble: Stacking Classifier']\n",
        "    #plt.figure(figsize=(100, 100)\n",
        "    n_array = []\n",
        "    acc = pd.DataFrame()\n",
        "    for i in range(2, 12):\n",
        "        n_array.append(i)\n",
        "        name = 'n='+str(i)\n",
        "        pca = PCA(n_components = i)\n",
        "        data3 = pca.fit_transform(data2)\n",
        "        explained_variance = pca.explained_variance_ratio_\n",
        "        #print('Result for PCA : n_components=', i)\n",
        "        score = summary_report2(data3)\n",
        "        acc[name] = score['Accuracy']\n",
        "\n",
        "    return n_array, acc"
      ],
      "metadata": {
        "id": "r1yBy8UCOrcZ"
      },
      "execution_count": null,
      "outputs": []
    },
    {
      "cell_type": "code",
      "source": [
        "n_array, acc = n_plotPCA(data2)"
      ],
      "metadata": {
        "id": "wjRZ09diQ13p"
      },
      "execution_count": null,
      "outputs": []
    },
    {
      "cell_type": "code",
      "source": [
        "acc"
      ],
      "metadata": {
        "colab": {
          "base_uri": "https://localhost:8080/",
          "height": 300
        },
        "id": "kXxGqx--C2gH",
        "outputId": "12ad9b72-3dbd-4d79-bcf5-aaa43555d376"
      },
      "execution_count": null,
      "outputs": [
        {
          "output_type": "execute_result",
          "data": {
            "text/plain": [
              "                                 n=2    n=3    n=4    n=5    n=6    n=7  \\\n",
              "Logistic Regression           92.580 92.310 92.450 92.580 91.880 91.310   \n",
              "K-Nearest Neighbors           92.580 91.720 92.070 91.630 90.450 89.550   \n",
              "Random Forest Classifier      92.180 92.710 93.190 93.320 92.840 92.710   \n",
              "Gaussian Naive Bayes          92.620 92.620 92.340 92.770 92.320 92.400   \n",
              "SVM                           93.210 92.860 93.370 92.690 90.500 90.830   \n",
              "Ada Boost Classifier          92.010 91.350 92.180 92.490 91.810 93.630   \n",
              "Gradient Boosting Classifier  93.450 93.740 93.940 93.140 93.820 93.020   \n",
              "Ensemble: Stacking Classifier 92.670 91.850 92.600 92.970 92.030 92.100   \n",
              "\n",
              "                                 n=8    n=9   n=10   n=11  \n",
              "Logistic Regression           90.430 90.560 91.000 91.530  \n",
              "K-Nearest Neighbors           90.020 88.770 89.450 88.980  \n",
              "Random Forest Classifier      92.600 92.880 93.230 92.730  \n",
              "Gaussian Naive Bayes          92.420 91.920 92.160 92.210  \n",
              "SVM                           91.220 92.470 92.880 93.450  \n",
              "Ada Boost Classifier          92.820 93.320 93.480 93.390  \n",
              "Gradient Boosting Classifier  92.860 92.580 93.210 93.230  \n",
              "Ensemble: Stacking Classifier 92.510 92.900 92.770 93.230  "
            ],
            "text/html": [
              "\n",
              "  <div id=\"df-68397174-78c1-48b5-8398-5b5b08030f6e\">\n",
              "    <div class=\"colab-df-container\">\n",
              "      <div>\n",
              "<style scoped>\n",
              "    .dataframe tbody tr th:only-of-type {\n",
              "        vertical-align: middle;\n",
              "    }\n",
              "\n",
              "    .dataframe tbody tr th {\n",
              "        vertical-align: top;\n",
              "    }\n",
              "\n",
              "    .dataframe thead th {\n",
              "        text-align: right;\n",
              "    }\n",
              "</style>\n",
              "<table border=\"1\" class=\"dataframe\">\n",
              "  <thead>\n",
              "    <tr style=\"text-align: right;\">\n",
              "      <th></th>\n",
              "      <th>n=2</th>\n",
              "      <th>n=3</th>\n",
              "      <th>n=4</th>\n",
              "      <th>n=5</th>\n",
              "      <th>n=6</th>\n",
              "      <th>n=7</th>\n",
              "      <th>n=8</th>\n",
              "      <th>n=9</th>\n",
              "      <th>n=10</th>\n",
              "      <th>n=11</th>\n",
              "    </tr>\n",
              "  </thead>\n",
              "  <tbody>\n",
              "    <tr>\n",
              "      <th>Logistic Regression</th>\n",
              "      <td>92.580</td>\n",
              "      <td>92.310</td>\n",
              "      <td>92.450</td>\n",
              "      <td>92.580</td>\n",
              "      <td>91.880</td>\n",
              "      <td>91.310</td>\n",
              "      <td>90.430</td>\n",
              "      <td>90.560</td>\n",
              "      <td>91.000</td>\n",
              "      <td>91.530</td>\n",
              "    </tr>\n",
              "    <tr>\n",
              "      <th>K-Nearest Neighbors</th>\n",
              "      <td>92.580</td>\n",
              "      <td>91.720</td>\n",
              "      <td>92.070</td>\n",
              "      <td>91.630</td>\n",
              "      <td>90.450</td>\n",
              "      <td>89.550</td>\n",
              "      <td>90.020</td>\n",
              "      <td>88.770</td>\n",
              "      <td>89.450</td>\n",
              "      <td>88.980</td>\n",
              "    </tr>\n",
              "    <tr>\n",
              "      <th>Random Forest Classifier</th>\n",
              "      <td>92.180</td>\n",
              "      <td>92.710</td>\n",
              "      <td>93.190</td>\n",
              "      <td>93.320</td>\n",
              "      <td>92.840</td>\n",
              "      <td>92.710</td>\n",
              "      <td>92.600</td>\n",
              "      <td>92.880</td>\n",
              "      <td>93.230</td>\n",
              "      <td>92.730</td>\n",
              "    </tr>\n",
              "    <tr>\n",
              "      <th>Gaussian Naive Bayes</th>\n",
              "      <td>92.620</td>\n",
              "      <td>92.620</td>\n",
              "      <td>92.340</td>\n",
              "      <td>92.770</td>\n",
              "      <td>92.320</td>\n",
              "      <td>92.400</td>\n",
              "      <td>92.420</td>\n",
              "      <td>91.920</td>\n",
              "      <td>92.160</td>\n",
              "      <td>92.210</td>\n",
              "    </tr>\n",
              "    <tr>\n",
              "      <th>SVM</th>\n",
              "      <td>93.210</td>\n",
              "      <td>92.860</td>\n",
              "      <td>93.370</td>\n",
              "      <td>92.690</td>\n",
              "      <td>90.500</td>\n",
              "      <td>90.830</td>\n",
              "      <td>91.220</td>\n",
              "      <td>92.470</td>\n",
              "      <td>92.880</td>\n",
              "      <td>93.450</td>\n",
              "    </tr>\n",
              "    <tr>\n",
              "      <th>Ada Boost Classifier</th>\n",
              "      <td>92.010</td>\n",
              "      <td>91.350</td>\n",
              "      <td>92.180</td>\n",
              "      <td>92.490</td>\n",
              "      <td>91.810</td>\n",
              "      <td>93.630</td>\n",
              "      <td>92.820</td>\n",
              "      <td>93.320</td>\n",
              "      <td>93.480</td>\n",
              "      <td>93.390</td>\n",
              "    </tr>\n",
              "    <tr>\n",
              "      <th>Gradient Boosting Classifier</th>\n",
              "      <td>93.450</td>\n",
              "      <td>93.740</td>\n",
              "      <td>93.940</td>\n",
              "      <td>93.140</td>\n",
              "      <td>93.820</td>\n",
              "      <td>93.020</td>\n",
              "      <td>92.860</td>\n",
              "      <td>92.580</td>\n",
              "      <td>93.210</td>\n",
              "      <td>93.230</td>\n",
              "    </tr>\n",
              "    <tr>\n",
              "      <th>Ensemble: Stacking Classifier</th>\n",
              "      <td>92.670</td>\n",
              "      <td>91.850</td>\n",
              "      <td>92.600</td>\n",
              "      <td>92.970</td>\n",
              "      <td>92.030</td>\n",
              "      <td>92.100</td>\n",
              "      <td>92.510</td>\n",
              "      <td>92.900</td>\n",
              "      <td>92.770</td>\n",
              "      <td>93.230</td>\n",
              "    </tr>\n",
              "  </tbody>\n",
              "</table>\n",
              "</div>\n",
              "      <button class=\"colab-df-convert\" onclick=\"convertToInteractive('df-68397174-78c1-48b5-8398-5b5b08030f6e')\"\n",
              "              title=\"Convert this dataframe to an interactive table.\"\n",
              "              style=\"display:none;\">\n",
              "        \n",
              "  <svg xmlns=\"http://www.w3.org/2000/svg\" height=\"24px\"viewBox=\"0 0 24 24\"\n",
              "       width=\"24px\">\n",
              "    <path d=\"M0 0h24v24H0V0z\" fill=\"none\"/>\n",
              "    <path d=\"M18.56 5.44l.94 2.06.94-2.06 2.06-.94-2.06-.94-.94-2.06-.94 2.06-2.06.94zm-11 1L8.5 8.5l.94-2.06 2.06-.94-2.06-.94L8.5 2.5l-.94 2.06-2.06.94zm10 10l.94 2.06.94-2.06 2.06-.94-2.06-.94-.94-2.06-.94 2.06-2.06.94z\"/><path d=\"M17.41 7.96l-1.37-1.37c-.4-.4-.92-.59-1.43-.59-.52 0-1.04.2-1.43.59L10.3 9.45l-7.72 7.72c-.78.78-.78 2.05 0 2.83L4 21.41c.39.39.9.59 1.41.59.51 0 1.02-.2 1.41-.59l7.78-7.78 2.81-2.81c.8-.78.8-2.07 0-2.86zM5.41 20L4 18.59l7.72-7.72 1.47 1.35L5.41 20z\"/>\n",
              "  </svg>\n",
              "      </button>\n",
              "      \n",
              "  <style>\n",
              "    .colab-df-container {\n",
              "      display:flex;\n",
              "      flex-wrap:wrap;\n",
              "      gap: 12px;\n",
              "    }\n",
              "\n",
              "    .colab-df-convert {\n",
              "      background-color: #E8F0FE;\n",
              "      border: none;\n",
              "      border-radius: 50%;\n",
              "      cursor: pointer;\n",
              "      display: none;\n",
              "      fill: #1967D2;\n",
              "      height: 32px;\n",
              "      padding: 0 0 0 0;\n",
              "      width: 32px;\n",
              "    }\n",
              "\n",
              "    .colab-df-convert:hover {\n",
              "      background-color: #E2EBFA;\n",
              "      box-shadow: 0px 1px 2px rgba(60, 64, 67, 0.3), 0px 1px 3px 1px rgba(60, 64, 67, 0.15);\n",
              "      fill: #174EA6;\n",
              "    }\n",
              "\n",
              "    [theme=dark] .colab-df-convert {\n",
              "      background-color: #3B4455;\n",
              "      fill: #D2E3FC;\n",
              "    }\n",
              "\n",
              "    [theme=dark] .colab-df-convert:hover {\n",
              "      background-color: #434B5C;\n",
              "      box-shadow: 0px 1px 3px 1px rgba(0, 0, 0, 0.15);\n",
              "      filter: drop-shadow(0px 1px 2px rgba(0, 0, 0, 0.3));\n",
              "      fill: #FFFFFF;\n",
              "    }\n",
              "  </style>\n",
              "\n",
              "      <script>\n",
              "        const buttonEl =\n",
              "          document.querySelector('#df-68397174-78c1-48b5-8398-5b5b08030f6e button.colab-df-convert');\n",
              "        buttonEl.style.display =\n",
              "          google.colab.kernel.accessAllowed ? 'block' : 'none';\n",
              "\n",
              "        async function convertToInteractive(key) {\n",
              "          const element = document.querySelector('#df-68397174-78c1-48b5-8398-5b5b08030f6e');\n",
              "          const dataTable =\n",
              "            await google.colab.kernel.invokeFunction('convertToInteractive',\n",
              "                                                     [key], {});\n",
              "          if (!dataTable) return;\n",
              "\n",
              "          const docLinkHtml = 'Like what you see? Visit the ' +\n",
              "            '<a target=\"_blank\" href=https://colab.research.google.com/notebooks/data_table.ipynb>data table notebook</a>'\n",
              "            + ' to learn more about interactive tables.';\n",
              "          element.innerHTML = '';\n",
              "          dataTable['output_type'] = 'display_data';\n",
              "          await google.colab.output.renderOutput(dataTable, element);\n",
              "          const docLink = document.createElement('div');\n",
              "          docLink.innerHTML = docLinkHtml;\n",
              "          element.appendChild(docLink);\n",
              "        }\n",
              "      </script>\n",
              "    </div>\n",
              "  </div>\n",
              "  "
            ]
          },
          "metadata": {},
          "execution_count": 44
        }
      ]
    },
    {
      "cell_type": "code",
      "source": [
        "rf = pd.DataFrame(acc.iloc[[2,]]).to_numpy()[0]\n",
        "ada = pd.DataFrame(acc.iloc[[4,]]).to_numpy()[0]"
      ],
      "metadata": {
        "id": "kdv5fiydqPnG"
      },
      "execution_count": null,
      "outputs": []
    },
    {
      "cell_type": "code",
      "source": [
        "plt.title('Accuracy vs number of Principal Components (PCA)')\n",
        "plt.bar(n_array, rf, label='Random Forest' ,color='purple')\n",
        "plt.ylim([85, 100])\n",
        "plt.legend()\n",
        "image_format = 'svg' # e.g .png, .svg, etc.\n",
        "image_name = 'myimage.svg'\n",
        "plt.tight_layout()\n",
        "plt.savefig(image_name, format=image_format, dpi=1500)\n",
        "plt.show()"
      ],
      "metadata": {
        "colab": {
          "base_uri": "https://localhost:8080/",
          "height": 297
        },
        "id": "ZHxhJgcH5CEu",
        "outputId": "af788e12-c6e4-4a40-b9c6-6bcade2083b2"
      },
      "execution_count": null,
      "outputs": [
        {
          "output_type": "display_data",
          "data": {
            "text/plain": [
              "<Figure size 432x288 with 1 Axes>"
            ],
            "image/png": "[encoded data removed]"
          },
          "metadata": {
            "needs_background": "light"
          }
        }
      ]
    },
    {
      "cell_type": "code",
      "source": [
        "plt.title('AdaBoost: number of Principal Components (PCA)', size = 15)\n",
        "plt.bar(n_array, ada, color='purple')\n",
        "plt.ylim([90, 95])\n",
        "plt.ylabel('Accuracy', size=12)\n",
        "plt.xlabel('n_component', size=12)\n",
        "plt.xticks(size=10)\n",
        "plt.yticks(size=10)\n",
        "#plt.legend()\n",
        "image_format = 'svg' # e.g .png, .svg, etc.\n",
        "image_name = 'fig5.svg'\n",
        "plt.tight_layout()\n",
        "plt.savefig(image_name, format=image_format, dpi=1500)\n",
        "plt.show()"
      ],
      "metadata": {
        "colab": {
          "base_uri": "https://localhost:8080/",
          "height": 297
        },
        "id": "QE6e8GiSFos7",
        "outputId": "6f0df5ce-7554-49e2-8f37-9613bce9874a"
      },
      "execution_count": null,
      "outputs": [
        {
          "output_type": "display_data",
          "data": {
            "text/plain": [
              "<Figure size 432x288 with 1 Axes>"
            ],
            "image/png": "[encoded data removed]"
          },
          "metadata": {
            "needs_background": "light"
          }
        }
      ]
    },
    {
      "cell_type": "code",
      "source": [
        "random_data = data2[4000:4800]\n",
        "random_data = random_data[['Breathing Problem', 'Fever', 'Dry Cough', 'Sore throat',\n",
        "       'Running Nose', 'Asthma', 'Chronic Lung Disease', 'Headache',\n",
        "       'Heart Disease','Fatigue ',\n",
        "       'Abroad travel', 'Contact with COVID Patient']]\n",
        "\n",
        "r_labels = labels2[4000:4800]"
      ],
      "metadata": {
        "id": "l5-49oZhernd"
      },
      "execution_count": null,
      "outputs": []
    },
    {
      "cell_type": "code",
      "source": [
        "def find_scores(data, model):\n",
        "  scores = cross_validate(model, data, r_labels, cv=3, scoring=('accuracy', 'precision', 'recall', 'f1', 'roc_auc'), return_train_score=False)\n",
        "  scores['test_accuracy'] = scores['test_accuracy'].mean()\n",
        "  scores['fit_time'] = scores['fit_time'].mean()\n",
        "  scores['test_precision'] = scores['test_precision'].mean()\n",
        "  scores['test_recall'] = scores['test_recall'].mean()\n",
        "  scores['test_f1'] = scores['test_f1'].mean()\n",
        "  scores['test_roc_auc'] = scores['test_roc_auc'].mean()\n",
        "  scores['score_time'] = scores['score_time'].mean()\n",
        "  scores.pop('score_time')\n",
        "  scores.pop('fit_time')\n",
        "  df = pd.DataFrame.from_dict([scores])\n",
        "  return df"
      ],
      "metadata": {
        "id": "UFEnuCCWgqt0"
      },
      "execution_count": null,
      "outputs": []
    },
    {
      "cell_type": "code",
      "source": [
        "def n_plotISOMAP(data):\n",
        "    n_array = []\n",
        "    rf = []\n",
        "    #from scipy import sparse\n",
        "    #data3 = sparse.csr_matrix(data)\n",
        "    for i in range(2, 9):\n",
        "        n_array.append(i)\n",
        "        embedding = Isomap(n_components=i)\n",
        "        data2 = embedding.fit_transform(data[:len(data)])\n",
        "        score = summary_report2(data2)\n",
        "        rf.append(score['Accuracy'][4])\n",
        "    return n_array, rf"
      ],
      "metadata": {
        "id": "ln5Qst_15yln"
      },
      "execution_count": null,
      "outputs": []
    },
    {
      "cell_type": "code",
      "source": [
        "embedding = Isomap(n_components=6)\n",
        "data3 = embedding.fit_transform(data2)"
      ],
      "metadata": {
        "id": "GiJa4g_gH2YV"
      },
      "execution_count": null,
      "outputs": []
    },
    {
      "cell_type": "code",
      "source": [
        "score = summary_report2(data3)"
      ],
      "metadata": {
        "id": "bHTaOFOtIbsF"
      },
      "execution_count": null,
      "outputs": []
    },
    {
      "cell_type": "code",
      "source": [
        "score"
      ],
      "metadata": {
        "colab": {
          "base_uri": "https://localhost:8080/",
          "height": 300
        },
        "id": "gLcZCxaFK_BA",
        "outputId": "223e9771-e3c1-4282-ae48-a11a43252e06"
      },
      "execution_count": null,
      "outputs": [
        {
          "output_type": "execute_result",
          "data": {
            "text/plain": [
              "                               Accuracy  F1 Score  Precision  Recall  AUC-ROC\n",
              "Logistic Regression              89.930    93.320     94.140  93.690   93.700\n",
              "K-Nearest Neighbors              88.590    93.040     92.900  92.810   83.520\n",
              "Random Forest Classifier         91.150    93.510     95.710  94.540   94.310\n",
              "Gaussian Naive Bayes             90.650    94.380     93.910  94.050   93.960\n",
              "SVM                              90.720    92.170     96.740  94.380   93.440\n",
              "Ada Boost Classifier             92.030    93.700     96.600  95.110   92.190\n",
              "Gradient Boosting Classifier     92.510    95.000     95.710  95.330   94.280\n",
              "Ensemble: Stacking Classifier    89.860    91.370     96.580  93.850   94.640"
            ],
            "text/html": [
              "\n",
              "  <div id=\"df-2d76d1e7-b9a4-4d73-bf04-a24f98ac1158\">\n",
              "    <div class=\"colab-df-container\">\n",
              "      <div>\n",
              "<style scoped>\n",
              "    .dataframe tbody tr th:only-of-type {\n",
              "        vertical-align: middle;\n",
              "    }\n",
              "\n",
              "    .dataframe tbody tr th {\n",
              "        vertical-align: top;\n",
              "    }\n",
              "\n",
              "    .dataframe thead th {\n",
              "        text-align: right;\n",
              "    }\n",
              "</style>\n",
              "<table border=\"1\" class=\"dataframe\">\n",
              "  <thead>\n",
              "    <tr style=\"text-align: right;\">\n",
              "      <th></th>\n",
              "      <th>Accuracy</th>\n",
              "      <th>F1 Score</th>\n",
              "      <th>Precision</th>\n",
              "      <th>Recall</th>\n",
              "      <th>AUC-ROC</th>\n",
              "    </tr>\n",
              "  </thead>\n",
              "  <tbody>\n",
              "    <tr>\n",
              "      <th>Logistic Regression</th>\n",
              "      <td>89.930</td>\n",
              "      <td>93.320</td>\n",
              "      <td>94.140</td>\n",
              "      <td>93.690</td>\n",
              "      <td>93.700</td>\n",
              "    </tr>\n",
              "    <tr>\n",
              "      <th>K-Nearest Neighbors</th>\n",
              "      <td>88.590</td>\n",
              "      <td>93.040</td>\n",
              "      <td>92.900</td>\n",
              "      <td>92.810</td>\n",
              "      <td>83.520</td>\n",
              "    </tr>\n",
              "    <tr>\n",
              "      <th>Random Forest Classifier</th>\n",
              "      <td>91.150</td>\n",
              "      <td>93.510</td>\n",
              "      <td>95.710</td>\n",
              "      <td>94.540</td>\n",
              "      <td>94.310</td>\n",
              "    </tr>\n",
              "    <tr>\n",
              "      <th>Gaussian Naive Bayes</th>\n",
              "      <td>90.650</td>\n",
              "      <td>94.380</td>\n",
              "      <td>93.910</td>\n",
              "      <td>94.050</td>\n",
              "      <td>93.960</td>\n",
              "    </tr>\n",
              "    <tr>\n",
              "      <th>SVM</th>\n",
              "      <td>90.720</td>\n",
              "      <td>92.170</td>\n",
              "      <td>96.740</td>\n",
              "      <td>94.380</td>\n",
              "      <td>93.440</td>\n",
              "    </tr>\n",
              "    <tr>\n",
              "      <th>Ada Boost Classifier</th>\n",
              "      <td>92.030</td>\n",
              "      <td>93.700</td>\n",
              "      <td>96.600</td>\n",
              "      <td>95.110</td>\n",
              "      <td>92.190</td>\n",
              "    </tr>\n",
              "    <tr>\n",
              "      <th>Gradient Boosting Classifier</th>\n",
              "      <td>92.510</td>\n",
              "      <td>95.000</td>\n",
              "      <td>95.710</td>\n",
              "      <td>95.330</td>\n",
              "      <td>94.280</td>\n",
              "    </tr>\n",
              "    <tr>\n",
              "      <th>Ensemble: Stacking Classifier</th>\n",
              "      <td>89.860</td>\n",
              "      <td>91.370</td>\n",
              "      <td>96.580</td>\n",
              "      <td>93.850</td>\n",
              "      <td>94.640</td>\n",
              "    </tr>\n",
              "  </tbody>\n",
              "</table>\n",
              "</div>\n",
              "      <button class=\"colab-df-convert\" onclick=\"convertToInteractive('df-2d76d1e7-b9a4-4d73-bf04-a24f98ac1158')\"\n",
              "              title=\"Convert this dataframe to an interactive table.\"\n",
              "              style=\"display:none;\">\n",
              "        \n",
              "  <svg xmlns=\"http://www.w3.org/2000/svg\" height=\"24px\"viewBox=\"0 0 24 24\"\n",
              "       width=\"24px\">\n",
              "    <path d=\"M0 0h24v24H0V0z\" fill=\"none\"/>\n",
              "    <path d=\"M18.56 5.44l.94 2.06.94-2.06 2.06-.94-2.06-.94-.94-2.06-.94 2.06-2.06.94zm-11 1L8.5 8.5l.94-2.06 2.06-.94-2.06-.94L8.5 2.5l-.94 2.06-2.06.94zm10 10l.94 2.06.94-2.06 2.06-.94-2.06-.94-.94-2.06-.94 2.06-2.06.94z\"/><path d=\"M17.41 7.96l-1.37-1.37c-.4-.4-.92-.59-1.43-.59-.52 0-1.04.2-1.43.59L10.3 9.45l-7.72 7.72c-.78.78-.78 2.05 0 2.83L4 21.41c.39.39.9.59 1.41.59.51 0 1.02-.2 1.41-.59l7.78-7.78 2.81-2.81c.8-.78.8-2.07 0-2.86zM5.41 20L4 18.59l7.72-7.72 1.47 1.35L5.41 20z\"/>\n",
              "  </svg>\n",
              "      </button>\n",
              "      \n",
              "  <style>\n",
              "    .colab-df-container {\n",
              "      display:flex;\n",
              "      flex-wrap:wrap;\n",
              "      gap: 12px;\n",
              "    }\n",
              "\n",
              "    .colab-df-convert {\n",
              "      background-color: #E8F0FE;\n",
              "      border: none;\n",
              "      border-radius: 50%;\n",
              "      cursor: pointer;\n",
              "      display: none;\n",
              "      fill: #1967D2;\n",
              "      height: 32px;\n",
              "      padding: 0 0 0 0;\n",
              "      width: 32px;\n",
              "    }\n",
              "\n",
              "    .colab-df-convert:hover {\n",
              "      background-color: #E2EBFA;\n",
              "      box-shadow: 0px 1px 2px rgba(60, 64, 67, 0.3), 0px 1px 3px 1px rgba(60, 64, 67, 0.15);\n",
              "      fill: #174EA6;\n",
              "    }\n",
              "\n",
              "    [theme=dark] .colab-df-convert {\n",
              "      background-color: #3B4455;\n",
              "      fill: #D2E3FC;\n",
              "    }\n",
              "\n",
              "    [theme=dark] .colab-df-convert:hover {\n",
              "      background-color: #434B5C;\n",
              "      box-shadow: 0px 1px 3px 1px rgba(0, 0, 0, 0.15);\n",
              "      filter: drop-shadow(0px 1px 2px rgba(0, 0, 0, 0.3));\n",
              "      fill: #FFFFFF;\n",
              "    }\n",
              "  </style>\n",
              "\n",
              "      <script>\n",
              "        const buttonEl =\n",
              "          document.querySelector('#df-2d76d1e7-b9a4-4d73-bf04-a24f98ac1158 button.colab-df-convert');\n",
              "        buttonEl.style.display =\n",
              "          google.colab.kernel.accessAllowed ? 'block' : 'none';\n",
              "\n",
              "        async function convertToInteractive(key) {\n",
              "          const element = document.querySelector('#df-2d76d1e7-b9a4-4d73-bf04-a24f98ac1158');\n",
              "          const dataTable =\n",
              "            await google.colab.kernel.invokeFunction('convertToInteractive',\n",
              "                                                     [key], {});\n",
              "          if (!dataTable) return;\n",
              "\n",
              "          const docLinkHtml = 'Like what you see? Visit the ' +\n",
              "            '<a target=\"_blank\" href=https://colab.research.google.com/notebooks/data_table.ipynb>data table notebook</a>'\n",
              "            + ' to learn more about interactive tables.';\n",
              "          element.innerHTML = '';\n",
              "          dataTable['output_type'] = 'display_data';\n",
              "          await google.colab.output.renderOutput(dataTable, element);\n",
              "          const docLink = document.createElement('div');\n",
              "          docLink.innerHTML = docLinkHtml;\n",
              "          element.appendChild(docLink);\n",
              "        }\n",
              "      </script>\n",
              "    </div>\n",
              "  </div>\n",
              "  "
            ]
          },
          "metadata": {},
          "execution_count": 66
        }
      ]
    },
    {
      "cell_type": "code",
      "source": [
        "n_array2, rf2 = n_plotISOMAP(random_data)"
      ],
      "metadata": {
        "id": "qxrwrxuU6Nmq"
      },
      "execution_count": null,
      "outputs": []
    },
    {
      "cell_type": "code",
      "source": [
        "rf2"
      ],
      "metadata": {
        "colab": {
          "base_uri": "https://localhost:8080/"
        },
        "id": "WmlttZ8dqRTz",
        "outputId": "f26f5898-e229-4e5c-feb6-5a2a3cdc503f"
      },
      "execution_count": null,
      "outputs": [
        {
          "output_type": "execute_result",
          "data": {
            "text/plain": [
              "[95.25, 96.5, 96.87, 96.62, 97.0, 96.62, 97.0]"
            ]
          },
          "metadata": {},
          "execution_count": 52
        }
      ]
    },
    {
      "cell_type": "code",
      "source": [
        "plt.title('Accuracy vs n_components', size=15)\n",
        "plt.bar(n_array2, rf2, label='Random Forest' ,color='purple')\n",
        "plt.ylim([85, 100])\n",
        "plt.legend()\n",
        "plt.show()"
      ],
      "metadata": {
        "colab": {
          "base_uri": "https://localhost:8080/",
          "height": 283
        },
        "id": "D6DCsTHArNYB",
        "outputId": "73291a09-1a9c-47b0-86af-63d655e60d5d"
      },
      "execution_count": null,
      "outputs": [
        {
          "output_type": "display_data",
          "data": {
            "text/plain": [
              "<Figure size 432x288 with 1 Axes>"
            ],
            "image/png": "[encoded data removed]"
          },
          "metadata": {
            "needs_background": "light"
          }
        }
      ]
    },
    {
      "cell_type": "code",
      "source": [
        "def find_scores(data, model):\n",
        "  scores = cross_validate(model, data, labels2, cv=3, scoring=('accuracy', 'precision', 'recall', 'f1', 'roc_auc'), return_train_score=False)\n",
        "  scores['test_accuracy'] = scores['test_accuracy'].mean()\n",
        "  scores['fit_time'] = scores['fit_time'].mean()\n",
        "  scores['test_precision'] = scores['test_precision'].mean()\n",
        "  scores['test_recall'] = scores['test_recall'].mean()\n",
        "  scores['test_f1'] = scores['test_f1'].mean()\n",
        "  scores['test_roc_auc'] = scores['test_roc_auc'].mean()\n",
        "  scores['score_time'] = scores['score_time'].mean()\n",
        "  scores.pop('score_time')\n",
        "  scores.pop('fit_time')\n",
        "  df = pd.DataFrame.from_dict([scores])\n",
        "  return df"
      ],
      "metadata": {
        "id": "QdOizKU8tPsw"
      },
      "execution_count": null,
      "outputs": []
    },
    {
      "cell_type": "code",
      "source": [
        "def plotUMAP(data):\n",
        "    rf = []\n",
        "    reducer = umap.UMAP()\n",
        "    data2 = reducer.fit_transform(data)\n",
        "    score = summary_report2(data2)\n",
        "    rf.append(score['Accuracy'][4])\n",
        "    return rf"
      ],
      "metadata": {
        "id": "-gMH-5KFrdIy"
      },
      "execution_count": null,
      "outputs": []
    },
    {
      "cell_type": "code",
      "source": [
        "rf3 = plotUMAP(data2)"
      ],
      "metadata": {
        "id": "kR5_LnSxsDLN",
        "colab": {
          "base_uri": "https://localhost:8080/"
        },
        "outputId": "11c75260-25ef-4d12-e621-44277a000d33"
      },
      "execution_count": null,
      "outputs": [
        {
          "output_type": "stream",
          "name": "stderr",
          "text": [
            "/usr/local/lib/python3.7/dist-packages/umap/spectral.py:261: UserWarning: WARNING: spectral initialisation failed! The eigenvector solver\n",
            "failed. This is likely due to too small an eigengap. Consider\n",
            "adding some noise or jitter to your data.\n",
            "\n",
            "Falling back to random initialisation!\n",
            "  \"WARNING: spectral initialisation failed! The eigenvector solver\\n\"\n"
          ]
        }
      ]
    },
    {
      "cell_type": "code",
      "source": [
        "rf3"
      ],
      "metadata": {
        "colab": {
          "base_uri": "https://localhost:8080/"
        },
        "id": "r-Tcppb-sIOn",
        "outputId": "d526f0af-0d77-4149-bd85-d9af70de1279"
      },
      "execution_count": null,
      "outputs": [
        {
          "output_type": "execute_result",
          "data": {
            "text/plain": [
              "[83.99]"
            ]
          },
          "metadata": {},
          "execution_count": 64
        }
      ]
    },
    {
      "cell_type": "code",
      "source": [
        "def feature_score(data, var):\n",
        "    import umap.umap_ as umap\n",
        "    model_names = ['Logistic Regression', 'K-Neighbors Classifier', 'Random Forest Classifier', 'SVM',\n",
        "                 'Ada Boost Classifier', 'Gradient Boosting Classifier', 'Ensemble: Stacking Classifier']\n",
        "\n",
        "    sc = StandardScaler()\n",
        "    data1 = sc.fit_transform(data)\n",
        "    pca = PCA(n_components = 7)\n",
        "    data1 = pca.fit_transform(data1)\n",
        "\n",
        "    reducer = umap.UMAP()\n",
        "    data2 = reducer.fit_transform(data)\n",
        "\n",
        "    #embedding = Isomap(n_components=11)\n",
        "    #data3 = embedding.fit_transform(data[:len(data)])\n",
        "\n",
        "    tabular_score = pd.DataFrame()\n",
        "\n",
        "    score = summary_report2(data)\n",
        "    nofr = score[var]\n",
        "    tabular_score['Without FR'] = nofr\n",
        "    score1 = summary_report2(data1)\n",
        "    pca = score1[var]\n",
        "    tabular_score['PCA'] = pca\n",
        "    score2 = summary_report2(data2)\n",
        "    umap = score2[var]\n",
        "    tabular_score['UMAP'] = umap\n",
        "    #score3 = summary_report2(data3)\n",
        "    #isomap = score3[var]\n",
        "    #tabular_score['ISOMAP'] = isomap\n",
        "\n",
        "    return tabular_score\n",
        "    '''plt.plot(model_names, nofr, linestyle='--', linewidth=2, color='orange', label='Without FR Techniques')\n",
        "    plt.plot(model_names, pca, linestyle='--', linewidth=2, color='red', label='PCA')\n",
        "    plt.plot(model_names, umap, linestyle='--', linewidth=2, color='blue', label='UMAP')\n",
        "    plt.plot(model_names, isomap, linestyle='--', linewidth=2, color='green', label='ISOMAP')\n",
        "    plt.xticks(rotation=90)\n",
        "    plt.legend()\n",
        "    return plt, tabular_score\n",
        "    '''"
      ],
      "metadata": {
        "id": "GUMWjACS5VdW"
      },
      "execution_count": null,
      "outputs": []
    },
    {
      "cell_type": "code",
      "source": [
        "tb = feature_score(data2, 'Accuracy')"
      ],
      "metadata": {
        "id": "IKRqh6MqoRw3"
      },
      "execution_count": null,
      "outputs": []
    },
    {
      "cell_type": "code",
      "source": [
        "tb"
      ],
      "metadata": {
        "colab": {
          "base_uri": "https://localhost:8080/"
        },
        "id": "ZzvsiZUZuBu5",
        "outputId": "10c1797d-62a5-4cea-c7f0-660f9d1eeeff"
      },
      "execution_count": null,
      "outputs": [
        {
          "output_type": "execute_result",
          "data": {
            "text/plain": [
              "                               Without FR    PCA   UMAP\n",
              "Logistic Regression                90.080 91.310 82.060\n",
              "K-Nearest Neighbors                91.040 90.150 87.060\n",
              "Random Forest Classifier           93.060 93.540 87.820\n",
              "Gaussian Naive Bayes               65.400 92.400 81.970\n",
              "SVM                                92.360 90.830 83.770\n",
              "Ada Boost Classifier               88.630 93.630 85.440\n",
              "Gradient Boosting Classifier       92.050 93.020 86.050\n",
              "Ensemble: Stacking Classifier      90.470 91.850 87.250"
            ],
            "text/html": [
              "\n",
              "  <div id=\"df-4bf1ba02-ac79-4c1a-b87b-7b8605d9144c\">\n",
              "    <div class=\"colab-df-container\">\n",
              "      <div>\n",
              "<style scoped>\n",
              "    .dataframe tbody tr th:only-of-type {\n",
              "        vertical-align: middle;\n",
              "    }\n",
              "\n",
              "    .dataframe tbody tr th {\n",
              "        vertical-align: top;\n",
              "    }\n",
              "\n",
              "    .dataframe thead th {\n",
              "        text-align: right;\n",
              "    }\n",
              "</style>\n",
              "<table border=\"1\" class=\"dataframe\">\n",
              "  <thead>\n",
              "    <tr style=\"text-align: right;\">\n",
              "      <th></th>\n",
              "      <th>Without FR</th>\n",
              "      <th>PCA</th>\n",
              "      <th>UMAP</th>\n",
              "    </tr>\n",
              "  </thead>\n",
              "  <tbody>\n",
              "    <tr>\n",
              "      <th>Logistic Regression</th>\n",
              "      <td>90.080</td>\n",
              "      <td>91.310</td>\n",
              "      <td>82.060</td>\n",
              "    </tr>\n",
              "    <tr>\n",
              "      <th>K-Nearest Neighbors</th>\n",
              "      <td>91.040</td>\n",
              "      <td>90.150</td>\n",
              "      <td>87.060</td>\n",
              "    </tr>\n",
              "    <tr>\n",
              "      <th>Random Forest Classifier</th>\n",
              "      <td>93.060</td>\n",
              "      <td>93.540</td>\n",
              "      <td>87.820</td>\n",
              "    </tr>\n",
              "    <tr>\n",
              "      <th>Gaussian Naive Bayes</th>\n",
              "      <td>65.400</td>\n",
              "      <td>92.400</td>\n",
              "      <td>81.970</td>\n",
              "    </tr>\n",
              "    <tr>\n",
              "      <th>SVM</th>\n",
              "      <td>92.360</td>\n",
              "      <td>90.830</td>\n",
              "      <td>83.770</td>\n",
              "    </tr>\n",
              "    <tr>\n",
              "      <th>Ada Boost Classifier</th>\n",
              "      <td>88.630</td>\n",
              "      <td>93.630</td>\n",
              "      <td>85.440</td>\n",
              "    </tr>\n",
              "    <tr>\n",
              "      <th>Gradient Boosting Classifier</th>\n",
              "      <td>92.050</td>\n",
              "      <td>93.020</td>\n",
              "      <td>86.050</td>\n",
              "    </tr>\n",
              "    <tr>\n",
              "      <th>Ensemble: Stacking Classifier</th>\n",
              "      <td>90.470</td>\n",
              "      <td>91.850</td>\n",
              "      <td>87.250</td>\n",
              "    </tr>\n",
              "  </tbody>\n",
              "</table>\n",
              "</div>\n",
              "      <button class=\"colab-df-convert\" onclick=\"convertToInteractive('df-4bf1ba02-ac79-4c1a-b87b-7b8605d9144c')\"\n",
              "              title=\"Convert this dataframe to an interactive table.\"\n",
              "              style=\"display:none;\">\n",
              "        \n",
              "  <svg xmlns=\"http://www.w3.org/2000/svg\" height=\"24px\"viewBox=\"0 0 24 24\"\n",
              "       width=\"24px\">\n",
              "    <path d=\"M0 0h24v24H0V0z\" fill=\"none\"/>\n",
              "    <path d=\"M18.56 5.44l.94 2.06.94-2.06 2.06-.94-2.06-.94-.94-2.06-.94 2.06-2.06.94zm-11 1L8.5 8.5l.94-2.06 2.06-.94-2.06-.94L8.5 2.5l-.94 2.06-2.06.94zm10 10l.94 2.06.94-2.06 2.06-.94-2.06-.94-.94-2.06-.94 2.06-2.06.94z\"/><path d=\"M17.41 7.96l-1.37-1.37c-.4-.4-.92-.59-1.43-.59-.52 0-1.04.2-1.43.59L10.3 9.45l-7.72 7.72c-.78.78-.78 2.05 0 2.83L4 21.41c.39.39.9.59 1.41.59.51 0 1.02-.2 1.41-.59l7.78-7.78 2.81-2.81c.8-.78.8-2.07 0-2.86zM5.41 20L4 18.59l7.72-7.72 1.47 1.35L5.41 20z\"/>\n",
              "  </svg>\n",
              "      </button>\n",
              "      \n",
              "  <style>\n",
              "    .colab-df-container {\n",
              "      display:flex;\n",
              "      flex-wrap:wrap;\n",
              "      gap: 12px;\n",
              "    }\n",
              "\n",
              "    .colab-df-convert {\n",
              "      background-color: #E8F0FE;\n",
              "      border: none;\n",
              "      border-radius: 50%;\n",
              "      cursor: pointer;\n",
              "      display: none;\n",
              "      fill: #1967D2;\n",
              "      height: 32px;\n",
              "      padding: 0 0 0 0;\n",
              "      width: 32px;\n",
              "    }\n",
              "\n",
              "    .colab-df-convert:hover {\n",
              "      background-color: #E2EBFA;\n",
              "      box-shadow: 0px 1px 2px rgba(60, 64, 67, 0.3), 0px 1px 3px 1px rgba(60, 64, 67, 0.15);\n",
              "      fill: #174EA6;\n",
              "    }\n",
              "\n",
              "    [theme=dark] .colab-df-convert {\n",
              "      background-color: #3B4455;\n",
              "      fill: #D2E3FC;\n",
              "    }\n",
              "\n",
              "    [theme=dark] .colab-df-convert:hover {\n",
              "      background-color: #434B5C;\n",
              "      box-shadow: 0px 1px 3px 1px rgba(0, 0, 0, 0.15);\n",
              "      filter: drop-shadow(0px 1px 2px rgba(0, 0, 0, 0.3));\n",
              "      fill: #FFFFFF;\n",
              "    }\n",
              "  </style>\n",
              "\n",
              "      <script>\n",
              "        const buttonEl =\n",
              "          document.querySelector('#df-4bf1ba02-ac79-4c1a-b87b-7b8605d9144c button.colab-df-convert');\n",
              "        buttonEl.style.display =\n",
              "          google.colab.kernel.accessAllowed ? 'block' : 'none';\n",
              "\n",
              "        async function convertToInteractive(key) {\n",
              "          const element = document.querySelector('#df-4bf1ba02-ac79-4c1a-b87b-7b8605d9144c');\n",
              "          const dataTable =\n",
              "            await google.colab.kernel.invokeFunction('convertToInteractive',\n",
              "                                                     [key], {});\n",
              "          if (!dataTable) return;\n",
              "\n",
              "          const docLinkHtml = 'Like what you see? Visit the ' +\n",
              "            '<a target=\"_blank\" href=https://colab.research.google.com/notebooks/data_table.ipynb>data table notebook</a>'\n",
              "            + ' to learn more about interactive tables.';\n",
              "          element.innerHTML = '';\n",
              "          dataTable['output_type'] = 'display_data';\n",
              "          await google.colab.output.renderOutput(dataTable, element);\n",
              "          const docLink = document.createElement('div');\n",
              "          docLink.innerHTML = docLinkHtml;\n",
              "          element.appendChild(docLink);\n",
              "        }\n",
              "      </script>\n",
              "    </div>\n",
              "  </div>\n",
              "  "
            ]
          },
          "metadata": {},
          "execution_count": 69
        }
      ]
    },
    {
      "cell_type": "code",
      "source": [
        "w = 0.4\n",
        "\n",
        "model_names = ['Logistic Regression', 'K-Neighbors Classifier', 'Random Forest Classifier', 'SVM',\n",
        "                 'Ada Boost Classifier', 'Gradient Boosting Classifier', 'Ensemble: Stacking Classifier']\n",
        "\n",
        "nofr = tb['Without FR']\n",
        "pca = tb['PCA']\n",
        "#umap = tb['UMAP']\n",
        "\n",
        "bar1 = np.arange(len(model_names))\n",
        "bar2 = [i+w for i in bar1]\n",
        "#bar3 = [i+w for i in bar2]\n",
        "'''bar4 = [i+w for i in bar3]\n",
        "bar5 = [i+w for i in bar4]\n",
        "bar6 = [i+w for i in bar5]\n",
        "bar7 = [i+w for i in bar6]\n",
        "'''\n",
        "fig = plt.figure()\n",
        "plt.xlabel('Classifier type', fontsize=10)\n",
        "plt.ylabel('Accuracy', fontsize=10)\n",
        "plt.title('Accuracy for Feature Reduction techniques vs Classifiers', fontsize=15)\n",
        "plt.xticks(size=8)\n",
        "plt.yticks(size=8)\n",
        "plt.bar(bar1, nofr, w, label='No feature reduction')\n",
        "plt.bar(bar2, pca, w, label='PCA')\n",
        "#plt.bar(bar3, umap, w, label='UMAP')\n",
        "plt.legend(fontsize=10)\n",
        "plt.ylim([85,95])\n",
        "image_format = 'svg' # e.g .png, .svg, etc.\n",
        "image_name = 'myimage2.svg'\n",
        "plt.tight_layout()\n",
        "plt.savefig(image_name, format=image_format, dpi=1500)\n",
        "plt.show()"
      ],
      "metadata": {
        "colab": {
          "base_uri": "https://localhost:8080/",
          "height": 297
        },
        "id": "h-ZSz4xRtewv",
        "outputId": "f0b2e145-9682-4aec-9de9-2c1c472768bf"
      },
      "execution_count": null,
      "outputs": [
        {
          "output_type": "display_data",
          "data": {
            "text/plain": [
              "<Figure size 432x288 with 1 Axes>"
            ],
            "image/png": "[encoded data removed]"
          },
          "metadata": {
            "needs_background": "light"
          }
        }
      ]
    },
    {
      "cell_type": "code",
      "source": [
        "w = 0.2\n",
        "\n",
        "model_names = ['Logistic Regression', 'K-Neighbors Classifier', 'Random Forest Classifier', 'SVM',\n",
        "                 'Ada Boost Classifier', 'Gradient Boosting Classifier', 'Ensemble: Stacking Classifier']\n",
        "\n",
        "nofr = tb['Without FR']\n",
        "pca = tb['PCA']\n",
        "umap = tb['UMAP']\n",
        "\n",
        "bar1 = np.arange(len(model_names))\n",
        "bar2 = [i+w for i in bar1]\n",
        "bar3 = [i+w for i in bar2]\n",
        "'''bar4 = [i+w for i in bar3]\n",
        "bar5 = [i+w for i in bar4]\n",
        "bar6 = [i+w for i in bar5]\n",
        "bar7 = [i+w for i in bar6]\n",
        "'''\n",
        "fig = plt.figure(figsize = (20, 15))\n",
        "plt.xlabel('CLassifier type', fontsize=20)\n",
        "plt.ylabel('Accuracy', fontsize=20)\n",
        "plt.title('Accuracy for Feature Reduction techniques vs Classifiers', fontsize=25)\n",
        "plt.xticks(fontsize=15)\n",
        "plt.yticks(fontsize=15)\n",
        "plt.bar(bar1, nofr, w, label='No feature reduction')\n",
        "plt.bar(bar2, pca, w, label='PCA')\n",
        "plt.bar(bar3, umap, w, label='UMAP')\n",
        "plt.legend(fontsize=15)\n",
        "plt.ylim([85,95])\n",
        "plt.show()"
      ],
      "metadata": {
        "colab": {
          "base_uri": "https://localhost:8080/",
          "height": 866
        },
        "id": "48ba8-rgztjp",
        "outputId": "3297b6d2-7f15-499c-92e9-2b8bd7e8ecf1"
      },
      "execution_count": null,
      "outputs": [
        {
          "output_type": "display_data",
          "data": {
            "text/plain": [
              "<Figure size 1440x1080 with 1 Axes>"
            ],
            "image/png": "[encoded data removed]"
          },
          "metadata": {
            "needs_background": "light"
          }
        }
      ]
    },
    {
      "cell_type": "markdown",
      "source": [
        "# **Result : Kaggle, PCA (n_comp = 7), AdaBoost/RF**\n",
        "\n",
        "## **Other options : All algos (12), Coswara, UMAP, ISOMAP?, n_comp variations in PCA**"
      ],
      "metadata": {
        "id": "JzrWs82xGJNv"
      }
    }
  ]
}